{
 "cells": [
  {
   "cell_type": "code",
   "execution_count": 1,
   "id": "f9b37695",
   "metadata": {},
   "outputs": [],
   "source": [
    "#https://medium.com/towards-formula-1-analysis/formula-1-data-analysis-tutorial-2021-russian-gp-to-box-or-not-to-box-da6399bd4a39"
   ]
  },
  {
   "cell_type": "code",
   "execution_count": 1,
   "id": "418db471",
   "metadata": {},
   "outputs": [],
   "source": [
    "import fastf1 as ff1\n",
    "from fastf1 import plotting\n",
    "from matplotlib import pyplot as plt\n",
    "from matplotlib.pyplot import figure\n",
    "from matplotlib.collections import LineCollection\n",
    "from matplotlib import cm\n",
    "import numpy as np\n",
    "import pandas as pd"
   ]
  },
  {
   "cell_type": "code",
   "execution_count": 2,
   "id": "621a1055",
   "metadata": {},
   "outputs": [],
   "source": [
    "# Setup plotting\n",
    "plotting.setup_mpl()\n",
    "\n",
    "# Enable the cache\n",
    "ff1.Cache.enable_cache('cache')\n",
    "\n",
    "# Get rid of some pandas warnings that are not relevant for us at the moment\n",
    "pd.options.mode.chained_assignment = None"
   ]
  },
  {
   "cell_type": "code",
   "execution_count": 3,
   "id": "c838eb67",
   "metadata": {},
   "outputs": [
    {
     "name": "stderr",
     "output_type": "stream",
     "text": [
      "core           INFO \tLoading data for Russian Grand Prix - Race [v2.2.8]\n",
      "api            INFO \tUsing cached data for driver_info\n",
      "api            INFO \tUsing cached data for timing_data\n",
      "api            INFO \tUsing cached data for timing_app_data\n",
      "core           INFO \tProcessing timing data...\n",
      "api            INFO \tUsing cached data for session_status_data\n",
      "api            INFO \tUsing cached data for track_status_data\n",
      "api            INFO \tUsing cached data for car_data\n",
      "api            INFO \tUsing cached data for position_data\n",
      "api            INFO \tUsing cached data for weather_data\n",
      "api            INFO \tUsing cached data for race_control_messages\n",
      "core           INFO \tFinished loading data for 20 drivers: ['44', '33', '55', '3', '77', '14', '4', '7', '11', '63', '18', '5', '10', '31', '16', '99', '22', '9', '6', '47']\n"
     ]
    }
   ],
   "source": [
    "#Load the session data\n",
    "race = ff1.get_session(2021, 'Russia', 'R')\n",
    "\n",
    "# Get the laps\n",
    "#laps = race.load_laps(with_telemetry=True)\n",
    "laps_r = race.load(telemetry=True)\n",
    "\n"
   ]
  },
  {
   "cell_type": "code",
   "execution_count": 4,
   "id": "51407b12",
   "metadata": {},
   "outputs": [
    {
     "ename": "NameError",
     "evalue": "name 'laps' is not defined",
     "output_type": "error",
     "traceback": [
      "\u001b[0;31m---------------------------------------------------------------------------\u001b[0m",
      "\u001b[0;31mNameError\u001b[0m                                 Traceback (most recent call last)",
      "Input \u001b[0;32mIn [4]\u001b[0m, in \u001b[0;36m<cell line: 2>\u001b[0;34m()\u001b[0m\n\u001b[1;32m      1\u001b[0m \u001b[38;5;66;03m# Calculate RaceLapNumber (LapNumber minus 1 since the warmup lap is included in LapNumber)\u001b[39;00m\n\u001b[0;32m----> 2\u001b[0m laps[\u001b[38;5;124m'\u001b[39m\u001b[38;5;124mRaceLapNumber\u001b[39m\u001b[38;5;124m'\u001b[39m] \u001b[38;5;241m=\u001b[39m \u001b[43mlaps\u001b[49m[\u001b[38;5;124m'\u001b[39m\u001b[38;5;124mLapNumber\u001b[39m\u001b[38;5;124m'\u001b[39m] \u001b[38;5;241m-\u001b[39m \u001b[38;5;241m1\u001b[39m\n\u001b[1;32m      4\u001b[0m \u001b[38;5;66;03m# Starting from lap 45 it started raining\u001b[39;00m\n\u001b[1;32m      5\u001b[0m laps \u001b[38;5;241m=\u001b[39m laps\u001b[38;5;241m.\u001b[39mloc[laps[\u001b[38;5;124m'\u001b[39m\u001b[38;5;124mRaceLapNumber\u001b[39m\u001b[38;5;124m'\u001b[39m] \u001b[38;5;241m>\u001b[39m\u001b[38;5;241m=\u001b[39m \u001b[38;5;241m45\u001b[39m]\n",
      "\u001b[0;31mNameError\u001b[0m: name 'laps' is not defined"
     ]
    }
   ],
   "source": [
    "# Calculate RaceLapNumber (LapNumber minus 1 since the warmup lap is included in LapNumber)\n",
    "laps['RaceLapNumber'] = laps['LapNumber'] - 1\n",
    "\n",
    "# Starting from lap 45 it started raining\n",
    "laps = laps.loc[laps['RaceLapNumber'] >= 45]"
   ]
  },
  {
   "cell_type": "code",
   "execution_count": null,
   "id": "86394896",
   "metadata": {},
   "outputs": [],
   "source": [
    "# Get all drivers\n",
    "drivers = pd.unique(laps['Driver'])\n",
    "\n",
    "telemetry = pd.DataFrame()\n",
    "\n",
    "# Telemetry can only be retrieved driver-by-driver\n",
    "for driver in drivers:\n",
    "    driver_laps = laps.pick_driver(driver)\n",
    "    \n",
    "    # Since we want to compare distances, we need to collect telemetry lap-by-lap to reset the distance\n",
    "    for lap in driver_laps.iterlaps():\n",
    "        driver_telemetry = lap[1].get_telemetry().add_distance()\n",
    "        driver_telemetry['Driver'] = driver\n",
    "        driver_telemetry['Lap'] = lap[1]['RaceLapNumber']\n",
    "        driver_telemetry['Compound'] = lap[1]['Compound']\n",
    "        #print(driver_telemetry)\n",
    "    \n",
    "        telemetry = telemetry.append(driver_telemetry)\n",
    "        #telemetry = pd.concat(driver_telemetry,axis=0)"
   ]
  },
  {
   "cell_type": "code",
   "execution_count": 10,
   "id": "49e931c6",
   "metadata": {},
   "outputs": [],
   "source": [
    "# Only keep required columns\n",
    "telemetry = telemetry[['Lap', 'Distance', 'Compound', 'Speed', 'X','Y']]\n",
    "\n",
    "# Everything that's not intermediate will be \"slick\"\n",
    "telemetry['Compound'].loc[telemetry['Compound'] != 'INTERMEDIATE'] = 'SLICK'"
   ]
  },
  {
   "cell_type": "code",
   "execution_count": null,
   "id": "a1c47e20",
   "metadata": {},
   "outputs": [],
   "source": []
  },
  {
   "cell_type": "code",
   "execution_count": 11,
   "id": "c7161718",
   "metadata": {},
   "outputs": [],
   "source": [
    "# We want 25 mini-sectors\n",
    "num_minisectors = 25\n",
    "\n",
    "# What is the total distance of a lap?\n",
    "total_distance = max(telemetry['Distance'])\n",
    "\n",
    "# Generate equally sized mini-sectors \n",
    "minisector_length = total_distance / num_minisectors\n",
    "\n",
    "minisectors = [0]\n",
    "\n",
    "for i in range(0, (num_minisectors - 1)):\n",
    "    minisectors.append(minisector_length * (i + 1))"
   ]
  },
  {
   "cell_type": "code",
   "execution_count": 12,
   "id": "966fd903",
   "metadata": {},
   "outputs": [],
   "source": [
    "# Assign minisector to every row in the telemetry data\n",
    "telemetry['Minisector'] =  telemetry['Distance'].apply(\n",
    "  lambda z: (\n",
    "    minisectors.index(\n",
    "      min(minisectors, key=lambda x: abs(x-z)))+1\n",
    "  )\n",
    ")"
   ]
  },
  {
   "cell_type": "code",
   "execution_count": 13,
   "id": "82c3e2cb",
   "metadata": {},
   "outputs": [],
   "source": [
    "\n",
    "# Calculate fastest tyre per mini sector\n",
    "average_speed = telemetry.groupby(['Lap', 'Minisector', 'Compound'])['Speed'].mean().reset_index()\n"
   ]
  },
  {
   "cell_type": "code",
   "execution_count": 14,
   "id": "64062e8e",
   "metadata": {},
   "outputs": [],
   "source": [
    "# Select the compound with the highest average speed\n",
    "fastest_compounds = average_speed.loc[average_speed.groupby(['Lap', 'Minisector'])['Speed'].idxmax()]\n",
    "\n",
    "# Get rid of the speed column and rename the Compound column\n",
    "fastest_compounds = fastest_compounds[['Lap', 'Minisector', 'Compound']].rename(columns={'Compound': 'Fastest_compound'})\n"
   ]
  },
  {
   "cell_type": "code",
   "execution_count": 15,
   "id": "4437067b",
   "metadata": {},
   "outputs": [],
   "source": [
    "# Join the fastest compound per minisector with the full telemetry\n",
    "telemetry = telemetry.merge(fastest_compounds, on=['Lap', 'Minisector'])\n",
    "\n",
    "# Order the data by distance to make matploblib does not get confused\n",
    "telemetry = telemetry.sort_values(by=['Distance'])\n",
    "\n",
    "# Assign integer value to the compound because that's what matplotlib wants\n",
    "telemetry.loc[telemetry['Fastest_compound'] == \"INTERMEDIATE\", 'Fastest_compound_int'] = 1\n",
    "telemetry.loc[telemetry['Fastest_compound'] == \"SLICK\", 'Fastest_compound_int'] = 2\n"
   ]
  },
  {
   "cell_type": "code",
   "execution_count": 18,
   "id": "bf65f9b6",
   "metadata": {},
   "outputs": [],
   "source": [
    "def generate_minisector_plot(lap, save=False, details=True):\n",
    "    single_lap = telemetry.loc[telemetry['Lap'] == lap]\n",
    "\n",
    "    x = np.array(single_lap['X'].values)\n",
    "    y = np.array(single_lap['Y'].values)\n",
    "\n",
    "    points = np.array([x, y]).T.reshape(-1, 1, 2)\n",
    "    segments = np.concatenate([points[:-1], points[1:]], axis=1)\n",
    "    compound = single_lap['Fastest_compound_int'].to_numpy().astype(float)\n",
    "\n",
    "    cmap = cm.get_cmap('ocean', 2)\n",
    "    lc_comp = LineCollection(segments, norm=plt.Normalize(1, cmap.N+1), cmap=cmap)\n",
    "    lc_comp.set_array(compound)\n",
    "    lc_comp.set_linewidth(2)\n",
    "\n",
    "    plt.rcParams['figure.figsize'] = [12, 5]\n",
    "    \n",
    "    if details:\n",
    "        title = plt.suptitle(\n",
    "            f\"2021 Russian GP \\n Lap {lap} - Slicks vs. Inters\"\n",
    "        )\n",
    "        \n",
    "    plt.gca().add_collection(lc_comp)\n",
    "    plt.axis('equal')\n",
    "    plt.tick_params(labelleft=False, left=False, labelbottom=False, bottom=False)\n",
    "    \n",
    "    if details:\n",
    "        cbar = plt.colorbar(mappable=lc_comp, boundaries=np.arange(1, 4))\n",
    "        cbar.set_ticks(np.arange(1.5, 9.5))\n",
    "        cbar.set_ticklabels(['Inters', 'Slicks'])\n",
    "    \n",
    "    if save:\n",
    "        plt.savefig(f\"minisectors_lap_{lap}.png\", dpi=300)\n",
    "\n",
    "    plt.show()"
   ]
  },
  {
   "cell_type": "code",
   "execution_count": 19,
   "id": "46e562cd",
   "metadata": {},
   "outputs": [
    {
     "data": {
      "image/png": "[encoded data removed]",
      "text/plain": [
       "<Figure size 864x360 with 1 Axes>"
      ]
     },
     "metadata": {},
     "output_type": "display_data"
    }
   ],
   "source": [
    "generate_minisector_plot(46, save=True, details=False)\n"
   ]
  },
  {
   "cell_type": "code",
   "execution_count": null,
   "id": "4b1d21fe",
   "metadata": {},
   "outputs": [],
   "source": []
  }
 ],
 "metadata": {
  "kernelspec": {
   "display_name": "Python 3 (ipykernel)",
   "language": "python",
   "name": "python3"
  },
  "language_info": {
   "codemirror_mode": {
    "name": "ipython",
    "version": 3
   },
   "file_extension": ".py",
   "mimetype": "text/x-python",
   "name": "python",
   "nbconvert_exporter": "python",
   "pygments_lexer": "ipython3",
   "version": "3.9.12"
  }
 },
 "nbformat": 4,
 "nbformat_minor": 5
}
