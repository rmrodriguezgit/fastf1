{
 "cells": [
  {
   "cell_type": "code",
   "execution_count": 1,
   "id": "e0df61a8",
   "metadata": {},
   "outputs": [
    {
     "name": "stdout",
     "output_type": "stream",
     "text": [
      "Año: 2022\n",
      "Round: 12\n",
      "Session type\n",
      "R - Race\n",
      "Q - Qualifying\n",
      "SQ - Sprint Qualifying\n",
      "FP1 - Practice 1\n",
      "FP2 - Practice 2\n",
      "FP3 - Practice 3\n",
      "Session :R\n"
     ]
    }
   ],
   "source": [
    "import fastf1 as ff1\n",
    "import pandas as pd\n",
    "\n",
    "ff1.Cache.enable_cache('cache') \n",
    "\n",
    "year = int(input('Año: '))\n",
    "wknd = int(input('Round: '))\n",
    "print('Session type')\n",
    "print('R - Race')\n",
    "print('Q - Qualifying')\n",
    "print('SQ - Sprint Qualifying')\n",
    "print('FP1 - Practice 1')\n",
    "print('FP2 - Practice 2')\n",
    "print('FP3 - Practice 3')\n",
    "ses = input('Session :')"
   ]
  },
  {
   "cell_type": "code",
   "execution_count": 2,
   "id": "58582b55",
   "metadata": {},
   "outputs": [
    {
     "name": "stderr",
     "output_type": "stream",
     "text": [
      "core           INFO \tLoading data for French Grand Prix - Race [v2.2.8]\n",
      "api            INFO \tUsing cached data for driver_info\n",
      "core        WARNING \tFailed to load data from Ergast API! (This is expected for recent sessions)\n",
      "api            INFO \tUsing cached data for timing_data\n",
      "api            INFO \tUsing cached data for timing_app_data\n",
      "core           INFO \tProcessing timing data...\n",
      "api            INFO \tUsing cached data for session_status_data\n",
      "api            INFO \tUsing cached data for track_status_data\n",
      "api            INFO \tUsing cached data for weather_data\n",
      "api            INFO \tUsing cached data for race_control_messages\n",
      "core           INFO \tFinished loading data for 20 drivers: ['16', '6', '47', '24', '18', '10', '23', '5', '77', '31', '3', '22', '14', '63', '4', '44', '11', '1', '55', '20']\n"
     ]
    },
    {
     "data": {
      "text/plain": [
       "Time             0 days 02:08:48.562000\n",
       "AirTemp                            29.7\n",
       "Humidity                           54.0\n",
       "Pressure                          967.7\n",
       "Rainfall                          False\n",
       "TrackTemp                          55.9\n",
       "WindDirection                       100\n",
       "WindSpeed                           1.6\n",
       "Name: 120, dtype: object"
      ]
     },
     "execution_count": 2,
     "metadata": {},
     "output_type": "execute_result"
    }
   ],
   "source": [
    "session = ff1.get_session(year, wknd, ses)\n",
    "session.load(telemetry=False)\n",
    "lap = session.laps.pick_fastest()\n",
    "lap['LapStartTime']\n",
    "# Timedelta('0 days 01:09:55.561000')\n",
    "lap.get_weather_data()"
   ]
  },
  {
   "cell_type": "code",
   "execution_count": null,
   "id": "d9b2a255",
   "metadata": {},
   "outputs": [],
   "source": []
  }
 ],
 "metadata": {
  "kernelspec": {
   "display_name": "Python 3 (ipykernel)",
   "language": "python",
   "name": "python3"
  },
  "language_info": {
   "codemirror_mode": {
    "name": "ipython",
    "version": 3
   },
   "file_extension": ".py",
   "mimetype": "text/x-python",
   "name": "python",
   "nbconvert_exporter": "python",
   "pygments_lexer": "ipython3",
   "version": "3.9.12"
  }
 },
 "nbformat": 4,
 "nbformat_minor": 5
}
