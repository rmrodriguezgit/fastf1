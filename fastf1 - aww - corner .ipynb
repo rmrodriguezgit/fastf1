{
 "cells": [
  {
   "cell_type": "code",
   "execution_count": 13,
   "id": "044a28bc",
   "metadata": {},
   "outputs": [],
   "source": [
    "#https://medium.com/towards-formula-1-analysis/how-to-recreate-the-formula-1-aws-corner-analysis-in-python-37c26363c47b"
   ]
  },
  {
   "cell_type": "code",
   "execution_count": 1,
   "id": "73ed5c80",
   "metadata": {},
   "outputs": [],
   "source": [
    "import numpy as np\n",
    "import pandas as pd\n",
    "\n",
    "import fastf1 as ff1\n",
    "from fastf1 import plotting\n",
    "\n",
    "from matplotlib import pyplot as plt\n",
    "from matplotlib.pyplot import figure"
   ]
  },
  {
   "cell_type": "code",
   "execution_count": 2,
   "id": "ed9a1cc5",
   "metadata": {},
   "outputs": [],
   "source": [
    "# Enable the cache\n",
    "ff1.Cache.enable_cache('cache') "
   ]
  },
  {
   "cell_type": "code",
   "execution_count": 3,
   "id": "2fbbf82c",
   "metadata": {},
   "outputs": [
    {
     "name": "stderr",
     "output_type": "stream",
     "text": [
      "/opt/anaconda3/lib/python3.9/site-packages/fastf1/core.py:1127: FutureWarning: `Session.load_laps` is deprecated and will beremoved in a future version.\n",
      "Use `Session.load` instead.\n",
      "  warnings.warn(\"`Session.load_laps` is deprecated and will be\"\n",
      "core           INFO \tLoading data for British Grand Prix - Qualifying [v2.2.8]\n",
      "api            INFO \tNo cached data found for driver_info. Loading data...\n",
      "api            INFO \tFetching driver list...\n",
      "api            INFO \tData has been written to cache!\n",
      "api            INFO \tNo cached data found for timing_data. Loading data...\n",
      "api            INFO \tFetching timing data...\n",
      "api            INFO \tParsing timing data...\n",
      "api            INFO \tData has been written to cache!\n",
      "api            INFO \tNo cached data found for timing_app_data. Loading data...\n",
      "api            INFO \tFetching timing app data...\n",
      "api            INFO \tData has been written to cache!\n",
      "core           INFO \tProcessing timing data...\n",
      "api            INFO \tNo cached data found for session_status_data. Loading data...\n",
      "api            INFO \tFetching session status data...\n",
      "api            INFO \tData has been written to cache!\n",
      "api            INFO \tNo cached data found for track_status_data. Loading data...\n",
      "api            INFO \tFetching track status data...\n",
      "api            INFO \tData has been written to cache!\n",
      "api            INFO \tNo cached data found for car_data. Loading data...\n",
      "api            INFO \tFetching car data...\n",
      "api            INFO \tParsing car data...\n",
      "api            INFO \tData has been written to cache!\n",
      "api            INFO \tNo cached data found for position_data. Loading data...\n",
      "api            INFO \tFetching position data...\n",
      "api            INFO \tParsing position data...\n",
      "api            INFO \tData has been written to cache!\n",
      "api            INFO \tNo cached data found for weather_data. Loading data...\n",
      "api            INFO \tFetching weather data...\n",
      "api            INFO \tData has been written to cache!\n",
      "api            INFO \tNo cached data found for race_control_messages. Loading data...\n",
      "api            INFO \tFetching race control messages...\n",
      "api            INFO \tData has been written to cache!\n",
      "core           INFO \tFinished loading data for 20 drivers: ['44', '33', '77', '16', '11', '4', '3', '63', '55', '5', '14', '10', '31', '99', '18', '22', '7', '6', '47', '9']\n"
     ]
    }
   ],
   "source": [
    "# Load the session data\n",
    "quali = ff1.get_session(2021, 'British GP', 'Q')\n",
    "\n",
    "# Get the laps\n",
    "laps = quali.load_laps(with_telemetry=True)"
   ]
  },
  {
   "cell_type": "code",
   "execution_count": 4,
   "id": "b1b56bd3",
   "metadata": {},
   "outputs": [],
   "source": [
    "# Setting parameters\n",
    "driver_1, driver_2 = 'HAM', 'VER'\n",
    "\n",
    "distance_min, distance_max = 4800, 5500 "
   ]
  },
  {
   "cell_type": "code",
   "execution_count": 5,
   "id": "b86aa3a0",
   "metadata": {},
   "outputs": [],
   "source": [
    "# Extracting the laps\n",
    "laps_driver_1 = laps.pick_driver(driver_1)\n",
    "laps_driver_2 = laps.pick_driver(driver_2)\n",
    "\n",
    "telemetry_driver_1 = laps_driver_1.pick_fastest().get_car_data().add_distance()\n",
    "telemetry_driver_2 = laps_driver_2.pick_fastest().get_car_data().add_distance()\n",
    "\n",
    "# Identifying the team for coloring later on\n",
    "team_driver_1 = laps_driver_1.reset_index().loc[0, 'Team']\n",
    "team_driver_2 = laps_driver_2.reset_index().loc[0, 'Team']"
   ]
  },
  {
   "cell_type": "code",
   "execution_count": 6,
   "id": "0ac000ad",
   "metadata": {},
   "outputs": [],
   "source": [
    "# Assigning labels to what the drivers are currently doing \n",
    "telemetry_driver_1.loc[telemetry_driver_1['Brake'] > 0, 'CurrentAction'] = 'Brake'\n",
    "telemetry_driver_1.loc[telemetry_driver_1['Throttle'] == 100, 'CurrentAction'] = 'Full Throttle'\n",
    "telemetry_driver_1.loc[(telemetry_driver_1['Brake'] == 0) & (telemetry_driver_1['Throttle'] < 100), 'CurrentAction'] = 'Cornering'\n",
    "\n",
    "telemetry_driver_2.loc[telemetry_driver_2['Brake'] > 0, 'CurrentAction'] = 'Brake'\n",
    "telemetry_driver_2.loc[telemetry_driver_2['Throttle'] == 100, 'CurrentAction'] = 'Full Throttle'\n",
    "telemetry_driver_2.loc[(telemetry_driver_2['Brake'] == 0) & (telemetry_driver_2['Throttle'] < 100), 'CurrentAction'] = 'Cornering'\n"
   ]
  },
  {
   "cell_type": "code",
   "execution_count": 7,
   "id": "ea278d28",
   "metadata": {},
   "outputs": [],
   "source": [
    "# Numbering each unique action to identify changes, so that we can group later on\n",
    "telemetry_driver_1['ActionID'] = (telemetry_driver_1['CurrentAction'] != telemetry_driver_1['CurrentAction'].shift(1)).cumsum()\n",
    "telemetry_driver_2['ActionID'] = (telemetry_driver_2['CurrentAction'] != telemetry_driver_2['CurrentAction'].shift(1)).cumsum()\n"
   ]
  },
  {
   "cell_type": "code",
   "execution_count": 8,
   "id": "62aa1976",
   "metadata": {},
   "outputs": [],
   "source": [
    "# Identifying all unique actions\n",
    "actions_driver_1 = telemetry_driver_1[['ActionID', 'CurrentAction', 'Distance']].groupby(['ActionID', 'CurrentAction']).max('Distance').reset_index()\n",
    "actions_driver_2 = telemetry_driver_2[['ActionID', 'CurrentAction', 'Distance']].groupby(['ActionID', 'CurrentAction']).max('Distance').reset_index()\n",
    "\n",
    "actions_driver_1['Driver'] = driver_1\n",
    "actions_driver_2['Driver'] = driver_2"
   ]
  },
  {
   "cell_type": "code",
   "execution_count": 9,
   "id": "74ae01b3",
   "metadata": {},
   "outputs": [],
   "source": [
    "# Calculating the distance between each action, so that we know how long the bar should be\n",
    "actions_driver_1['DistanceDelta'] = actions_driver_1['Distance'] - actions_driver_1['Distance'].shift(1)\n",
    "actions_driver_1.loc[0, 'DistanceDelta'] = actions_driver_1.loc[0, 'Distance']\n",
    "\n",
    "actions_driver_2['DistanceDelta'] = actions_driver_2['Distance'] - actions_driver_2['Distance'].shift(1)\n",
    "actions_driver_2.loc[0, 'DistanceDelta'] = actions_driver_2.loc[0, 'Distance']"
   ]
  },
  {
   "cell_type": "code",
   "execution_count": 10,
   "id": "9830c859",
   "metadata": {},
   "outputs": [
    {
     "name": "stderr",
     "output_type": "stream",
     "text": [
      "/var/folders/4g/fy11b71x7jsd5j1s4bztn7gm0000gn/T/ipykernel_57908/4026539744.py:2: FutureWarning: The frame.append method is deprecated and will be removed from pandas in a future version. Use pandas.concat instead.\n",
      "  all_actions = actions_driver_1.append(actions_driver_2)\n"
     ]
    }
   ],
   "source": [
    "# Merging together\n",
    "all_actions = actions_driver_1.append(actions_driver_2)"
   ]
  },
  {
   "cell_type": "code",
   "execution_count": 11,
   "id": "d204453a",
   "metadata": {},
   "outputs": [],
   "source": [
    "# Calculating average speed\n",
    "avg_speed_driver_1 = np.mean(telemetry_driver_1['Speed'].loc[\n",
    "    (telemetry_driver_1['Distance'] >= distance_min) & \n",
    "        (telemetry_driver_1['Distance'] >= distance_max) \n",
    "])\n",
    "\n",
    "\n",
    "avg_speed_driver_2 = np.mean(telemetry_driver_2['Speed'].loc[\n",
    "    (telemetry_driver_2['Distance'] >= distance_min) & \n",
    "        (telemetry_driver_2['Distance'] >= distance_max) \n",
    "])\n",
    "\n",
    "if avg_speed_driver_1 > avg_speed_driver_2:    \n",
    "    speed_text = f\"{driver_1} {round(avg_speed_driver_1 - avg_speed_driver_2,2)}km/h faster\"\n",
    "else:\n",
    "    speed_text = f\"{driver_1} {round(avg_speed_driver_2 - avg_speed_driver_1,2)}km/h faster\"\n"
   ]
  },
  {
   "cell_type": "code",
   "execution_count": 12,
   "id": "ac2fbf72",
   "metadata": {},
   "outputs": [
    {
     "data": {
      "image/png": "[encoded data removed]",
      "text/plain": [
       "<Figure size 936x288 with 2 Axes>"
      ]
     },
     "metadata": {
      "needs_background": "light"
     },
     "output_type": "display_data"
    }
   ],
   "source": [
    "##############################\n",
    "#\n",
    "# Setting everything up\n",
    "#\n",
    "##############################\n",
    "plt.rcParams[\"figure.figsize\"] = [13, 4]\n",
    "plt.rcParams[\"figure.autolayout\"] = True\n",
    "\n",
    "telemetry_colors = {\n",
    "    'Full Throttle': 'green',\n",
    "    'Cornering': 'grey',\n",
    "    'Brake': 'red',\n",
    "}\n",
    "\n",
    "fig, ax = plt.subplots(2)\n",
    "\n",
    "\n",
    "##############################\n",
    "#\n",
    "# Lineplot for speed \n",
    "#\n",
    "##############################\n",
    "ax[0].plot(telemetry_driver_1['Distance'], telemetry_driver_1['Speed'], label=driver_1, color=ff1.plotting.team_color(team_driver_1))\n",
    "ax[0].plot(telemetry_driver_2['Distance'], telemetry_driver_2['Speed'], label=driver_2, color=ff1.plotting.team_color(team_driver_2))\n",
    "\n",
    "# Speed difference\n",
    "ax[0].text(distance_min + 15,200, speed_text, fontsize = 15)\n",
    "\n",
    "ax[0].set(ylabel='Speed')\n",
    "ax[0].legend(loc=\"lower right\")\n",
    "\n",
    "\n",
    "##############################\n",
    "#\n",
    "# Horizontal barplot for telemetry\n",
    "#\n",
    "##############################\n",
    "for driver in [driver_1, driver_2]:\n",
    "    driver_actions = all_actions.loc[all_actions['Driver'] == driver]\n",
    "    \n",
    "    previous_action_end = 0\n",
    "    for _, action in driver_actions.iterrows():\n",
    "        ax[1].barh(\n",
    "            [driver], \n",
    "            action['DistanceDelta'], \n",
    "            left=previous_action_end, \n",
    "            color=telemetry_colors[action['CurrentAction']]\n",
    "        )\n",
    "        \n",
    "        previous_action_end = previous_action_end + action['DistanceDelta']\n",
    "        \n",
    "        \n",
    "##############################\n",
    "#\n",
    "# Styling of the plot\n",
    "#\n",
    "##############################   \n",
    "# Set x-label\n",
    "plt.xlabel('Distance')\n",
    "\n",
    "# Invert y-axis \n",
    "plt.gca().invert_yaxis()\n",
    "\n",
    "# Remove frame from plot\n",
    "ax[1].spines['top'].set_visible(False)\n",
    "ax[1].spines['right'].set_visible(False)\n",
    "ax[1].spines['left'].set_visible(False)\n",
    "\n",
    "# Add legend\n",
    "labels = list(telemetry_colors.keys())\n",
    "handles = [plt.Rectangle((0,0),1,1, color=telemetry_colors[label]) for label in labels]\n",
    "ax[1].legend(handles, labels)\n",
    "\n",
    "# Zoom in on the specific part we want to see\n",
    "ax[0].set_xlim(distance_min, distance_max)\n",
    "ax[1].set_xlim(distance_min, distance_max)\n",
    "\n",
    "# Save the plot\n",
    "plt.savefig('2021_Silverstone_Q_HAM_vs_VER_Corner_Analysis.png', dpi=300)\n"
   ]
  },
  {
   "cell_type": "code",
   "execution_count": null,
   "id": "f3ed5b7f",
   "metadata": {},
   "outputs": [],
   "source": []
  }
 ],
 "metadata": {
  "kernelspec": {
   "display_name": "Python 3 (ipykernel)",
   "language": "python",
   "name": "python3"
  },
  "language_info": {
   "codemirror_mode": {
    "name": "ipython",
    "version": 3
   },
   "file_extension": ".py",
   "mimetype": "text/x-python",
   "name": "python",
   "nbconvert_exporter": "python",
   "pygments_lexer": "ipython3",
   "version": "3.9.12"
  }
 },
 "nbformat": 4,
 "nbformat_minor": 5
}
