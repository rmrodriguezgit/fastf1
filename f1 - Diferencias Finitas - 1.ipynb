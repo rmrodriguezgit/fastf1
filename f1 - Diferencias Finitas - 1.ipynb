{
 "cells": [
  {
   "cell_type": "code",
   "execution_count": 1,
   "id": "d5907daf",
   "metadata": {},
   "outputs": [
    {
     "name": "stdout",
     "output_type": "stream",
     "text": [
      "Tabla Diferencia Finita: \n",
      "[['i', 'xi', 'fi', 'df1', 'df2', 'df3', 'df4', 'df5', 'df6', 'df7', 'df8', 'df9', 'df10', 'df11', 'df12', 'df13']]\n",
      "[[ 0.000e+00  1.000e+00  0.000e+00  2.500e+01 -5.000e+01  1.090e+02\n",
      "  -2.100e+02  3.600e+02 -5.750e+02  9.000e+02 -1.439e+03  2.376e+03\n",
      "  -3.928e+03  6.108e+03 -8.088e+03  0.000e+00]\n",
      " [ 1.000e+00  2.000e+00  2.500e+01 -2.500e+01  5.900e+01 -1.010e+02\n",
      "   1.500e+02 -2.150e+02  3.250e+02 -5.390e+02  9.370e+02 -1.552e+03\n",
      "   2.180e+03 -1.980e+03  0.000e+00  0.000e+00]\n",
      " [ 2.000e+00  3.000e+00  0.000e+00  3.400e+01 -4.200e+01  4.900e+01\n",
      "  -6.500e+01  1.100e+02 -2.140e+02  3.980e+02 -6.150e+02  6.280e+02\n",
      "   2.000e+02  0.000e+00  0.000e+00  0.000e+00]\n",
      " [ 3.000e+00  4.000e+00  3.400e+01 -8.000e+00  7.000e+00 -1.600e+01\n",
      "   4.500e+01 -1.040e+02  1.840e+02 -2.170e+02  1.300e+01  8.280e+02\n",
      "   0.000e+00  0.000e+00  0.000e+00  0.000e+00]\n",
      " [ 4.000e+00  5.000e+00  2.600e+01 -1.000e+00 -9.000e+00  2.900e+01\n",
      "  -5.900e+01  8.000e+01 -3.300e+01 -2.040e+02  8.410e+02  0.000e+00\n",
      "   0.000e+00  0.000e+00  0.000e+00  0.000e+00]\n",
      " [ 5.000e+00  6.000e+00  2.500e+01 -1.000e+01  2.000e+01 -3.000e+01\n",
      "   2.100e+01  4.700e+01 -2.370e+02  6.370e+02  0.000e+00  0.000e+00\n",
      "   0.000e+00  0.000e+00  0.000e+00  0.000e+00]\n",
      " [ 6.000e+00  7.000e+00  1.500e+01  1.000e+01 -1.000e+01 -9.000e+00\n",
      "   6.800e+01 -1.900e+02  4.000e+02  0.000e+00  0.000e+00  0.000e+00\n",
      "   0.000e+00  0.000e+00  0.000e+00  0.000e+00]\n",
      " [ 7.000e+00  8.000e+00  2.500e+01  0.000e+00 -1.900e+01  5.900e+01\n",
      "  -1.220e+02  2.100e+02  0.000e+00  0.000e+00  0.000e+00  0.000e+00\n",
      "   0.000e+00  0.000e+00  0.000e+00  0.000e+00]\n",
      " [ 8.000e+00  9.000e+00  2.500e+01 -1.900e+01  4.000e+01 -6.300e+01\n",
      "   8.800e+01  0.000e+00  0.000e+00  0.000e+00  0.000e+00  0.000e+00\n",
      "   0.000e+00  0.000e+00  0.000e+00  0.000e+00]\n",
      " [ 9.000e+00  1.000e+01  6.000e+00  2.100e+01 -2.300e+01  2.500e+01\n",
      "   0.000e+00  0.000e+00  0.000e+00  0.000e+00  0.000e+00  0.000e+00\n",
      "   0.000e+00  0.000e+00  0.000e+00  0.000e+00]\n",
      " [ 1.000e+01  1.100e+01  2.700e+01 -2.000e+00  2.000e+00  0.000e+00\n",
      "   0.000e+00  0.000e+00  0.000e+00  0.000e+00  0.000e+00  0.000e+00\n",
      "   0.000e+00  0.000e+00  0.000e+00  0.000e+00]\n",
      " [ 1.100e+01  1.200e+01  2.500e+01  0.000e+00  0.000e+00  0.000e+00\n",
      "   0.000e+00  0.000e+00  0.000e+00  0.000e+00  0.000e+00  0.000e+00\n",
      "   0.000e+00  0.000e+00  0.000e+00  0.000e+00]\n",
      " [ 1.200e+01  1.300e+01  2.500e+01  0.000e+00  0.000e+00  0.000e+00\n",
      "   0.000e+00  0.000e+00  0.000e+00  0.000e+00  0.000e+00  0.000e+00\n",
      "   0.000e+00  0.000e+00  0.000e+00  0.000e+00]]\n"
     ]
    }
   ],
   "source": [
    "# Tabla de Diferencias finitas\n",
    "# resultado en: [título,tabla]\n",
    "# Tarea: verificar tamaño de vectores\n",
    "import numpy as np\n",
    "\n",
    "# INGRESO, Datos de prueba\n",
    "#xi = np.array([0.10, 0.2, 0.3, 0.4])\n",
    "#fi = np.array([1.45, 1.6, 1.7, 2.0])\n",
    "xi = np.array([1,2,3,4,5,6,7,8,9,10,11,12,13])\n",
    "fi = np.array([0,25,0,34,26,25,15,25,25,6,27,25,25])\n",
    "\n",
    "# PROCEDIMIENTO\n",
    "\n",
    "# Tabla de Diferencias Finitas\n",
    "titulo = ['i','xi','fi']\n",
    "n  = len(xi)\n",
    "ki = np.arange(0,n,1)\n",
    "tabla = np.concatenate(([ki],[xi],[fi]),axis=0)\n",
    "tabla = np.transpose(tabla)\n",
    "\n",
    "# diferencias finitas vacia\n",
    "dfinita = np.zeros(shape=(n,n),dtype=float)\n",
    "tabla   = np.concatenate((tabla,dfinita), axis=1)\n",
    "\n",
    "# Calcula tabla, inicia en columna 3\n",
    "[n,m] = np.shape(tabla)\n",
    "diagonal = n-1\n",
    "j = 3\n",
    "while (j < m):\n",
    "    # Añade título para cada columna\n",
    "    titulo.append('df'+str(j-2))\n",
    "\n",
    "    # cada fila de columna\n",
    "    i = 0\n",
    "    while (i < diagonal):\n",
    "        tabla[i,j] = tabla[i+1,j-1]-tabla[i,j-1]\n",
    "        i = i + 1\n",
    "\n",
    "    diagonal = diagonal - 1\n",
    "    j = j + 1\n",
    "\n",
    "# SALIDA\n",
    "print('Tabla Diferencia Finita: ')\n",
    "print([titulo])\n",
    "print(tabla)"
   ]
  },
  {
   "cell_type": "code",
   "execution_count": 3,
   "id": "63c6c784",
   "metadata": {},
   "outputs": [
    {
     "data": {
      "image/png": "[encoded data removed]",
      "text/plain": [
       "<Figure size 432x288 with 1 Axes>"
      ]
     },
     "metadata": {
      "needs_background": "light"
     },
     "output_type": "display_data"
    }
   ],
   "source": [
    "# Gráfica\n",
    "import matplotlib.pyplot as plt\n",
    "\n",
    "for i in range(0,n,1):\n",
    "    plt.axhline(fi[i],ls='--', color='blue')\n",
    "\n",
    "plt.plot(xi,fi,'o', label = 'Puntos')\n",
    "\n",
    "plt.legend()\n",
    "plt.xlabel('xi')\n",
    "plt.ylabel('fi')\n",
    "plt.title('Diferencia Finita')\n",
    "plt.show()"
   ]
  },
  {
   "cell_type": "code",
   "execution_count": null,
   "id": "edbf1be8",
   "metadata": {},
   "outputs": [],
   "source": []
  }
 ],
 "metadata": {
  "kernelspec": {
   "display_name": "Python 3 (ipykernel)",
   "language": "python",
   "name": "python3"
  },
  "language_info": {
   "codemirror_mode": {
    "name": "ipython",
    "version": 3
   },
   "file_extension": ".py",
   "mimetype": "text/x-python",
   "name": "python",
   "nbconvert_exporter": "python",
   "pygments_lexer": "ipython3",
   "version": "3.9.12"
  }
 },
 "nbformat": 4,
 "nbformat_minor": 5
}
