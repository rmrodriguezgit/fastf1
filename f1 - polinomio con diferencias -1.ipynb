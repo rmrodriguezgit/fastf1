{
 "cells": [
  {
   "cell_type": "code",
   "execution_count": 2,
   "id": "4d8fe7b4",
   "metadata": {},
   "outputs": [
    {
     "name": "stdout",
     "output_type": "stream",
     "text": [
      "Tabla Diferencia Finita\n",
      "[['i', 'xi', 'fi', 'df1', 'df2', 'df3', 'df4', 'df5', 'df6', 'df7', 'df8', 'df9', 'df10', 'df11', 'df12', 'df13']]\n",
      "[[ 0.000e+00  1.000e+00  0.000e+00  2.500e+01 -5.000e+01  1.090e+02\n",
      "  -2.100e+02  3.600e+02 -5.750e+02  9.000e+02 -1.439e+03  2.376e+03\n",
      "  -3.928e+03  6.108e+03 -8.088e+03  0.000e+00]\n",
      " [ 1.000e+00  2.000e+00  2.500e+01 -2.500e+01  5.900e+01 -1.010e+02\n",
      "   1.500e+02 -2.150e+02  3.250e+02 -5.390e+02  9.370e+02 -1.552e+03\n",
      "   2.180e+03 -1.980e+03  0.000e+00  0.000e+00]\n",
      " [ 2.000e+00  3.000e+00  0.000e+00  3.400e+01 -4.200e+01  4.900e+01\n",
      "  -6.500e+01  1.100e+02 -2.140e+02  3.980e+02 -6.150e+02  6.280e+02\n",
      "   2.000e+02  0.000e+00  0.000e+00  0.000e+00]\n",
      " [ 3.000e+00  4.000e+00  3.400e+01 -8.000e+00  7.000e+00 -1.600e+01\n",
      "   4.500e+01 -1.040e+02  1.840e+02 -2.170e+02  1.300e+01  8.280e+02\n",
      "   0.000e+00  0.000e+00  0.000e+00  0.000e+00]\n",
      " [ 4.000e+00  5.000e+00  2.600e+01 -1.000e+00 -9.000e+00  2.900e+01\n",
      "  -5.900e+01  8.000e+01 -3.300e+01 -2.040e+02  8.410e+02  0.000e+00\n",
      "   0.000e+00  0.000e+00  0.000e+00  0.000e+00]\n",
      " [ 5.000e+00  6.000e+00  2.500e+01 -1.000e+01  2.000e+01 -3.000e+01\n",
      "   2.100e+01  4.700e+01 -2.370e+02  6.370e+02  0.000e+00  0.000e+00\n",
      "   0.000e+00  0.000e+00  0.000e+00  0.000e+00]\n",
      " [ 6.000e+00  7.000e+00  1.500e+01  1.000e+01 -1.000e+01 -9.000e+00\n",
      "   6.800e+01 -1.900e+02  4.000e+02  0.000e+00  0.000e+00  0.000e+00\n",
      "   0.000e+00  0.000e+00  0.000e+00  0.000e+00]\n",
      " [ 7.000e+00  8.000e+00  2.500e+01  0.000e+00 -1.900e+01  5.900e+01\n",
      "  -1.220e+02  2.100e+02  0.000e+00  0.000e+00  0.000e+00  0.000e+00\n",
      "   0.000e+00  0.000e+00  0.000e+00  0.000e+00]\n",
      " [ 8.000e+00  9.000e+00  2.500e+01 -1.900e+01  4.000e+01 -6.300e+01\n",
      "   8.800e+01  0.000e+00  0.000e+00  0.000e+00  0.000e+00  0.000e+00\n",
      "   0.000e+00  0.000e+00  0.000e+00  0.000e+00]\n",
      " [ 9.000e+00  1.000e+01  6.000e+00  2.100e+01 -2.300e+01  2.500e+01\n",
      "   0.000e+00  0.000e+00  0.000e+00  0.000e+00  0.000e+00  0.000e+00\n",
      "   0.000e+00  0.000e+00  0.000e+00  0.000e+00]\n",
      " [ 1.000e+01  1.100e+01  2.700e+01 -2.000e+00  2.000e+00  0.000e+00\n",
      "   0.000e+00  0.000e+00  0.000e+00  0.000e+00  0.000e+00  0.000e+00\n",
      "   0.000e+00  0.000e+00  0.000e+00  0.000e+00]\n",
      " [ 1.100e+01  1.200e+01  2.500e+01  0.000e+00  0.000e+00  0.000e+00\n",
      "   0.000e+00  0.000e+00  0.000e+00  0.000e+00  0.000e+00  0.000e+00\n",
      "   0.000e+00  0.000e+00  0.000e+00  0.000e+00]\n",
      " [ 1.200e+01  1.300e+01  2.500e+01  0.000e+00  0.000e+00  0.000e+00\n",
      "   0.000e+00  0.000e+00  0.000e+00  0.000e+00  0.000e+00  0.000e+00\n",
      "   0.000e+00  0.000e+00  0.000e+00  0.000e+00]]\n",
      "dfinita: \n",
      "[   25.   -50.   109.  -210.   360.  -575.   900. -1439.  2376. -3928.\n",
      "  6108. -8088.     0.]\n",
      "polinomio: \n",
      "25.0*x - 1.68851210517877e-5*(x - 12)*(x - 11)*(x - 10)*(x - 9)*(x - 8)*(x - 7)*(x - 6)*(x - 5)*(x - 4)*(x - 3)*(x - 2)*(x - 1) + 0.000153018278018278*(x - 11)*(x - 10)*(x - 9)*(x - 8)*(x - 7)*(x - 6)*(x - 5)*(x - 4)*(x - 3)*(x - 2)*(x - 1) - 0.00108245149911817*(x - 10)*(x - 9)*(x - 8)*(x - 7)*(x - 6)*(x - 5)*(x - 4)*(x - 3)*(x - 2)*(x - 1) + 0.00654761904761905*(x - 9)*(x - 8)*(x - 7)*(x - 6)*(x - 5)*(x - 4)*(x - 3)*(x - 2)*(x - 1) - 0.0356894841269841*(x - 8)*(x - 7)*(x - 6)*(x - 5)*(x - 4)*(x - 3)*(x - 2)*(x - 1) + 0.178571428571429*(x - 7)*(x - 6)*(x - 5)*(x - 4)*(x - 3)*(x - 2)*(x - 1) - 0.798611111111111*(x - 6)*(x - 5)*(x - 4)*(x - 3)*(x - 2)*(x - 1) + 3.0*(x - 5)*(x - 4)*(x - 3)*(x - 2)*(x - 1) - 8.75*(x - 4)*(x - 3)*(x - 2)*(x - 1) + 18.1666666666667*(x - 3)*(x - 2)*(x - 1) - 25.0*(x - 2)*(x - 1) - 25.0\n",
      "polinomio simplificado: \n",
      "-1.68851210517877e-5*x**12 + 0.00147005772005772*x**11 - 0.0570585317460317*x**10 + 1.3023258377425*x**9 - 19.4130489417989*x**8 + 198.455621693122*x**7 - 1421.20176973104*x**6 + 7150.58872354497*x**5 - 24942.003057209*x**4 + 58381.2060074956*x**3 - 86164.3250487013*x**2 + 70983.4458513709*x - 24168.0\n"
     ]
    },
    {
     "data": {
      "image/png": "[encoded data removed]",
      "text/plain": [
       "<Figure size 432x288 with 1 Axes>"
      ]
     },
     "metadata": {
      "needs_background": "light"
     },
     "output_type": "display_data"
    }
   ],
   "source": [
    "# Polinomio interpolación\n",
    "# Diferencias finitas avanzadas\n",
    "# Tarea: Verificar tamaño de vectores,\n",
    "#        verificar puntos equidistantes en x\n",
    "\n",
    "import numpy as np\n",
    "import sympy as sym\n",
    "import matplotlib.pyplot as plt\n",
    "\n",
    "# INGRESO , Datos de prueba\n",
    "xi = np.array([1,2,3,4,5,6,7,8,9,10,11,12,13])\n",
    "fi = np.array([0,25,0,34,26,25,15,25,25,6,27,25,25])\n",
    "\n",
    "# PROCEDIMIENTO\n",
    "\n",
    "# Tabla de Diferencias Finitas\n",
    "titulo = ['i','xi','fi']\n",
    "n = len(xi)\n",
    "ki = np.arange(0,n,1)\n",
    "tabla = np.concatenate(([ki],[xi],[fi]),axis=0)\n",
    "tabla = np.transpose(tabla)\n",
    "\n",
    "# diferencias finitas vacia\n",
    "dfinita = np.zeros(shape=(n,n),dtype=float)\n",
    "tabla = np.concatenate((tabla,dfinita), axis=1)\n",
    "\n",
    "# Calcula tabla, inicia en columna 3\n",
    "[n,m] = np.shape(tabla)\n",
    "diagonal = n-1\n",
    "j = 3\n",
    "while (j < m):\n",
    "    # Añade título para cada columna\n",
    "    titulo.append('df'+str(j-2))\n",
    "    # cada fila de columna\n",
    "    i = 0\n",
    "    while (i < diagonal):\n",
    "        tabla[i,j] = tabla[i+1,j-1]-tabla[i,j-1]\n",
    "        i = i+1\n",
    "    diagonal = diagonal - 1\n",
    "    j = j+1\n",
    "\n",
    "# POLINOMIO con diferencias Finitas avanzadas\n",
    "# caso: puntos equidistantes en eje x\n",
    "h = xi[1] - xi[0]\n",
    "dfinita = tabla[0,3:]\n",
    "n = len(dfinita)\n",
    "\n",
    "# expresión del polinomio con Sympy\n",
    "x = sym.Symbol('x')\n",
    "polinomio = fi[0]\n",
    "for j in range(1,n,1):\n",
    "    denominador = np.math.factorial(j)*(h**j)\n",
    "    factor = dfinita[j-1]/denominador\n",
    "    termino = 1\n",
    "    for k in range(0,j,1):\n",
    "        termino = termino*(x-xi[k])\n",
    "    polinomio = polinomio + termino*factor\n",
    "\n",
    "# simplifica multiplicando entre (x-xi)\n",
    "polisimple = polinomio.expand()\n",
    "\n",
    "# polinomio para evaluacion numérica\n",
    "px = sym.lambdify(x,polisimple)\n",
    "\n",
    "# Puntos para la gráfica\n",
    "muestras = 101\n",
    "a = np.min(xi)\n",
    "b = np.max(xi)\n",
    "pxi = np.linspace(a,b,muestras)\n",
    "pfi = px(pxi)\n",
    "\n",
    "# SALIDA\n",
    "print('Tabla Diferencia Finita')\n",
    "print([titulo])\n",
    "print(tabla)\n",
    "print('dfinita: ')\n",
    "print(dfinita)\n",
    "print('polinomio: ')\n",
    "print(polinomio)\n",
    "print('polinomio simplificado: ' )\n",
    "print(polisimple)\n",
    "\n",
    "# Gráfica\n",
    "plt.plot(xi,fi,'o', label = 'Puntos')\n",
    "##for i in range(0,n,1):\n",
    "##    plt.axvline(xi[i],ls='--', color='yellow')\n",
    "plt.plot(pxi,pfi, label = 'Polinomio')\n",
    "\n",
    "plt.legend()\n",
    "plt.xlabel('xi')\n",
    "plt.ylabel('fi')\n",
    "plt.title('Interpolación polinómica')\n",
    "plt.show()\n"
   ]
  },
  {
   "cell_type": "code",
   "execution_count": 6,
   "id": "ea33bdc5",
   "metadata": {},
   "outputs": [
    {
     "data": {
      "text/plain": [
       "25.000010138959624"
      ]
     },
     "execution_count": 6,
     "metadata": {},
     "output_type": "execute_result"
    }
   ],
   "source": [
    "px(12)"
   ]
  },
  {
   "cell_type": "code",
   "execution_count": 4,
   "id": "ffbedb5f",
   "metadata": {},
   "outputs": [
    {
     "data": {
      "text/plain": [
       "27.000006785965525"
      ]
     },
     "execution_count": 4,
     "metadata": {},
     "output_type": "execute_result"
    }
   ],
   "source": [
    "px(11)"
   ]
  },
  {
   "cell_type": "code",
   "execution_count": 5,
   "id": "5c44e5d4",
   "metadata": {},
   "outputs": [
    {
     "data": {
      "text/plain": [
       "4.3655745685100555e-11"
      ]
     },
     "execution_count": 5,
     "metadata": {},
     "output_type": "execute_result"
    }
   ],
   "source": [
    "px(1)"
   ]
  },
  {
   "cell_type": "code",
   "execution_count": null,
   "id": "55967074",
   "metadata": {},
   "outputs": [],
   "source": []
  }
 ],
 "metadata": {
  "kernelspec": {
   "display_name": "Python 3 (ipykernel)",
   "language": "python",
   "name": "python3"
  },
  "language_info": {
   "codemirror_mode": {
    "name": "ipython",
    "version": 3
   },
   "file_extension": ".py",
   "mimetype": "text/x-python",
   "name": "python",
   "nbconvert_exporter": "python",
   "pygments_lexer": "ipython3",
   "version": "3.9.12"
  }
 },
 "nbformat": 4,
 "nbformat_minor": 5
}
