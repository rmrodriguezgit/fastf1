{
 "cells": [
  {
   "cell_type": "code",
   "execution_count": 1,
   "id": "63014023",
   "metadata": {
    "scrolled": true
   },
   "outputs": [
    {
     "name": "stdout",
     "output_type": "stream",
     "text": [
      "Año: 2022\n",
      "Round: 21\n",
      "Session type\n",
      "R - Race\n",
      "Q - Qualifying\n",
      "SQ - Sprint Qualifying\n",
      "FP1 - Practice 1\n",
      "FP2 - Practice 2\n",
      "FP3 - Practice 3\n",
      "Session :R\n"
     ]
    }
   ],
   "source": [
    "import fastf1 as ff1\n",
    "import matplotlib.pyplot as plt\n",
    "import datetime\n",
    "import pandas as pd\n",
    "\n",
    "ff1.Cache.enable_cache('cache') \n",
    "\n",
    "year = int(input('Año: '))\n",
    "wknd = int(input('Round: '))\n",
    "print('Session type')\n",
    "print('R - Race')\n",
    "print('Q - Qualifying')\n",
    "print('SQ - Sprint Qualifying')\n",
    "print('FP1 - Practice 1')\n",
    "print('FP2 - Practice 2')\n",
    "print('FP3 - Practice 3')\n",
    "ses = input('Session :')"
   ]
  },
  {
   "cell_type": "code",
   "execution_count": 2,
   "id": "1b5358e2",
   "metadata": {},
   "outputs": [
    {
     "name": "stderr",
     "output_type": "stream",
     "text": [
      "core           INFO \tLoading data for São Paulo Grand Prix - Race [v2.2.8]\n",
      "api            INFO \tUsing cached data for driver_info\n",
      "api            INFO \tUsing cached data for timing_data\n",
      "api            INFO \tUsing cached data for timing_app_data\n",
      "core           INFO \tProcessing timing data...\n",
      "api            INFO \tUsing cached data for session_status_data\n",
      "api            INFO \tUsing cached data for track_status_data\n",
      "api            INFO \tUsing cached data for weather_data\n",
      "api            INFO \tUsing cached data for race_control_messages\n",
      "core           INFO \tFinished loading data for 20 drivers: ['63', '44', '55', '16', '14', '1', '11', '31', '77', '18', '5', '24', '47', '10', '23', '6', '22', '4', '20', '3']\n"
     ]
    },
    {
     "name": "stdout",
     "output_type": "stream",
     "text": [
      "                      Time AirTemp Humidity Pressure Rainfall TrackTemp  \\\n",
      "61  0 days 01:01:51.274000    23.6     74.0    922.2    False      49.5   \n",
      "63  0 days 01:03:51.273000    23.6     75.0    922.2    False      49.5   \n",
      "65  0 days 01:05:51.270000    23.4     74.0    922.2    False      49.3   \n",
      "67  0 days 01:07:51.270000    23.3     74.0    922.2    False      49.0   \n",
      "69  0 days 01:09:51.268000    23.3     73.0    922.2    False      48.3   \n",
      "..                     ...     ...      ...      ...      ...       ...   \n",
      "127 0 days 02:07:51.299000    21.9     82.0    921.9    False      40.4   \n",
      "128 0 days 02:08:51.291000    21.8     82.0    922.0    False      40.2   \n",
      "129 0 days 02:09:51.298000    21.7     82.0    922.0    False      40.2   \n",
      "61  0 days 01:01:51.274000    23.6     74.0    922.2    False      49.5   \n",
      "61  0 days 01:01:51.274000    23.6     74.0    922.2    False      49.5   \n",
      "\n",
      "    WindDirection WindSpeed  \n",
      "61            179       1.7  \n",
      "63              0       1.0  \n",
      "65            160       1.1  \n",
      "67            178       1.1  \n",
      "69            158       2.7  \n",
      "..            ...       ...  \n",
      "127           134       1.2  \n",
      "128           141       1.2  \n",
      "129           180       1.3  \n",
      "61            179       1.7  \n",
      "61            179       1.7  \n",
      "\n",
      "[1258 rows x 8 columns]\n"
     ]
    }
   ],
   "source": [
    "session = ff1.get_session(year, wknd, ses)\n",
    "session.load(telemetry=False)\n",
    "weather_data = session.laps.get_weather_data()\n",
    "print(weather_data)"
   ]
  },
  {
   "cell_type": "code",
   "execution_count": 3,
   "id": "d12844c9",
   "metadata": {},
   "outputs": [],
   "source": [
    "df = weather_data"
   ]
  },
  {
   "cell_type": "code",
   "execution_count": 4,
   "id": "16565e09",
   "metadata": {},
   "outputs": [],
   "source": [
    "# Mejorar "
   ]
  },
  {
   "cell_type": "code",
   "execution_count": 5,
   "id": "5ed46ec6",
   "metadata": {},
   "outputs": [
    {
     "data": {
      "text/html": [
       "<div>\n",
       "<style scoped>\n",
       "    .dataframe tbody tr th:only-of-type {\n",
       "        vertical-align: middle;\n",
       "    }\n",
       "\n",
       "    .dataframe tbody tr th {\n",
       "        vertical-align: top;\n",
       "    }\n",
       "\n",
       "    .dataframe thead th {\n",
       "        text-align: right;\n",
       "    }\n",
       "</style>\n",
       "<table border=\"1\" class=\"dataframe\">\n",
       "  <thead>\n",
       "    <tr style=\"text-align: right;\">\n",
       "      <th></th>\n",
       "      <th>Time</th>\n",
       "      <th>AirTemp</th>\n",
       "      <th>Humidity</th>\n",
       "      <th>Pressure</th>\n",
       "      <th>Rainfall</th>\n",
       "      <th>TrackTemp</th>\n",
       "      <th>WindDirection</th>\n",
       "      <th>WindSpeed</th>\n",
       "    </tr>\n",
       "  </thead>\n",
       "  <tbody>\n",
       "    <tr>\n",
       "      <th>61</th>\n",
       "      <td>0 days 01:01:51.274000</td>\n",
       "      <td>23.6</td>\n",
       "      <td>74.0</td>\n",
       "      <td>922.2</td>\n",
       "      <td>False</td>\n",
       "      <td>49.5</td>\n",
       "      <td>179</td>\n",
       "      <td>1.7</td>\n",
       "    </tr>\n",
       "    <tr>\n",
       "      <th>63</th>\n",
       "      <td>0 days 01:03:51.273000</td>\n",
       "      <td>23.6</td>\n",
       "      <td>75.0</td>\n",
       "      <td>922.2</td>\n",
       "      <td>False</td>\n",
       "      <td>49.5</td>\n",
       "      <td>0</td>\n",
       "      <td>1.0</td>\n",
       "    </tr>\n",
       "    <tr>\n",
       "      <th>65</th>\n",
       "      <td>0 days 01:05:51.270000</td>\n",
       "      <td>23.4</td>\n",
       "      <td>74.0</td>\n",
       "      <td>922.2</td>\n",
       "      <td>False</td>\n",
       "      <td>49.3</td>\n",
       "      <td>160</td>\n",
       "      <td>1.1</td>\n",
       "    </tr>\n",
       "    <tr>\n",
       "      <th>67</th>\n",
       "      <td>0 days 01:07:51.270000</td>\n",
       "      <td>23.3</td>\n",
       "      <td>74.0</td>\n",
       "      <td>922.2</td>\n",
       "      <td>False</td>\n",
       "      <td>49.0</td>\n",
       "      <td>178</td>\n",
       "      <td>1.1</td>\n",
       "    </tr>\n",
       "    <tr>\n",
       "      <th>69</th>\n",
       "      <td>0 days 01:09:51.268000</td>\n",
       "      <td>23.3</td>\n",
       "      <td>73.0</td>\n",
       "      <td>922.2</td>\n",
       "      <td>False</td>\n",
       "      <td>48.3</td>\n",
       "      <td>158</td>\n",
       "      <td>2.7</td>\n",
       "    </tr>\n",
       "    <tr>\n",
       "      <th>...</th>\n",
       "      <td>...</td>\n",
       "      <td>...</td>\n",
       "      <td>...</td>\n",
       "      <td>...</td>\n",
       "      <td>...</td>\n",
       "      <td>...</td>\n",
       "      <td>...</td>\n",
       "      <td>...</td>\n",
       "    </tr>\n",
       "    <tr>\n",
       "      <th>127</th>\n",
       "      <td>0 days 02:07:51.299000</td>\n",
       "      <td>21.9</td>\n",
       "      <td>82.0</td>\n",
       "      <td>921.9</td>\n",
       "      <td>False</td>\n",
       "      <td>40.4</td>\n",
       "      <td>134</td>\n",
       "      <td>1.2</td>\n",
       "    </tr>\n",
       "    <tr>\n",
       "      <th>128</th>\n",
       "      <td>0 days 02:08:51.291000</td>\n",
       "      <td>21.8</td>\n",
       "      <td>82.0</td>\n",
       "      <td>922.0</td>\n",
       "      <td>False</td>\n",
       "      <td>40.2</td>\n",
       "      <td>141</td>\n",
       "      <td>1.2</td>\n",
       "    </tr>\n",
       "    <tr>\n",
       "      <th>129</th>\n",
       "      <td>0 days 02:09:51.298000</td>\n",
       "      <td>21.7</td>\n",
       "      <td>82.0</td>\n",
       "      <td>922.0</td>\n",
       "      <td>False</td>\n",
       "      <td>40.2</td>\n",
       "      <td>180</td>\n",
       "      <td>1.3</td>\n",
       "    </tr>\n",
       "    <tr>\n",
       "      <th>61</th>\n",
       "      <td>0 days 01:01:51.274000</td>\n",
       "      <td>23.6</td>\n",
       "      <td>74.0</td>\n",
       "      <td>922.2</td>\n",
       "      <td>False</td>\n",
       "      <td>49.5</td>\n",
       "      <td>179</td>\n",
       "      <td>1.7</td>\n",
       "    </tr>\n",
       "    <tr>\n",
       "      <th>61</th>\n",
       "      <td>0 days 01:01:51.274000</td>\n",
       "      <td>23.6</td>\n",
       "      <td>74.0</td>\n",
       "      <td>922.2</td>\n",
       "      <td>False</td>\n",
       "      <td>49.5</td>\n",
       "      <td>179</td>\n",
       "      <td>1.7</td>\n",
       "    </tr>\n",
       "  </tbody>\n",
       "</table>\n",
       "<p>1258 rows × 8 columns</p>\n",
       "</div>"
      ],
      "text/plain": [
       "                      Time AirTemp Humidity Pressure Rainfall TrackTemp  \\\n",
       "61  0 days 01:01:51.274000    23.6     74.0    922.2    False      49.5   \n",
       "63  0 days 01:03:51.273000    23.6     75.0    922.2    False      49.5   \n",
       "65  0 days 01:05:51.270000    23.4     74.0    922.2    False      49.3   \n",
       "67  0 days 01:07:51.270000    23.3     74.0    922.2    False      49.0   \n",
       "69  0 days 01:09:51.268000    23.3     73.0    922.2    False      48.3   \n",
       "..                     ...     ...      ...      ...      ...       ...   \n",
       "127 0 days 02:07:51.299000    21.9     82.0    921.9    False      40.4   \n",
       "128 0 days 02:08:51.291000    21.8     82.0    922.0    False      40.2   \n",
       "129 0 days 02:09:51.298000    21.7     82.0    922.0    False      40.2   \n",
       "61  0 days 01:01:51.274000    23.6     74.0    922.2    False      49.5   \n",
       "61  0 days 01:01:51.274000    23.6     74.0    922.2    False      49.5   \n",
       "\n",
       "    WindDirection WindSpeed  \n",
       "61            179       1.7  \n",
       "63              0       1.0  \n",
       "65            160       1.1  \n",
       "67            178       1.1  \n",
       "69            158       2.7  \n",
       "..            ...       ...  \n",
       "127           134       1.2  \n",
       "128           141       1.2  \n",
       "129           180       1.3  \n",
       "61            179       1.7  \n",
       "61            179       1.7  \n",
       "\n",
       "[1258 rows x 8 columns]"
      ]
     },
     "execution_count": 5,
     "metadata": {},
     "output_type": "execute_result"
    }
   ],
   "source": [
    "df"
   ]
  },
  {
   "cell_type": "code",
   "execution_count": null,
   "id": "fabeeab7",
   "metadata": {},
   "outputs": [],
   "source": []
  },
  {
   "cell_type": "code",
   "execution_count": 6,
   "id": "8a01a5c2",
   "metadata": {},
   "outputs": [
    {
     "data": {
      "text/plain": [
       "Time             timedelta64[ns]\n",
       "AirTemp                   object\n",
       "Humidity                  object\n",
       "Pressure                  object\n",
       "Rainfall                  object\n",
       "TrackTemp                 object\n",
       "WindDirection             object\n",
       "WindSpeed                 object\n",
       "dtype: object"
      ]
     },
     "execution_count": 6,
     "metadata": {},
     "output_type": "execute_result"
    }
   ],
   "source": [
    "df.dtypes"
   ]
  },
  {
   "cell_type": "code",
   "execution_count": 7,
   "id": "87e28b08",
   "metadata": {},
   "outputs": [],
   "source": [
    "df['AirTemp'] = df['AirTemp'].astype(int)\n",
    "df['Humidity'] = df['Humidity'].astype(int)\n",
    "df['Pressure'] = df['Pressure'].astype(int)\n",
    "df['Rainfall'] = df['Rainfall'].astype(int)"
   ]
  },
  {
   "cell_type": "code",
   "execution_count": 8,
   "id": "6d86db3c",
   "metadata": {},
   "outputs": [
    {
     "data": {
      "image/png": "[encoded data removed]",
      "text/plain": [
       "<Figure size 432x288 with 1 Axes>"
      ]
     },
     "metadata": {
      "needs_background": "light"
     },
     "output_type": "display_data"
    },
    {
     "data": {
      "image/png": "[encoded data removed]",
      "text/plain": [
       "<Figure size 432x288 with 1 Axes>"
      ]
     },
     "metadata": {
      "needs_background": "light"
     },
     "output_type": "display_data"
    },
    {
     "data": {
      "image/png": "[encoded data removed]",
      "text/plain": [
       "<Figure size 432x288 with 1 Axes>"
      ]
     },
     "metadata": {
      "needs_background": "light"
     },
     "output_type": "display_data"
    },
    {
     "data": {
      "image/png": "[encoded data removed]",
      "text/plain": [
       "<Figure size 432x288 with 1 Axes>"
      ]
     },
     "metadata": {
      "needs_background": "light"
     },
     "output_type": "display_data"
    }
   ],
   "source": [
    "df.plot.scatter('AirTemp','Time',alpha=0.2)\n",
    "df.plot.scatter('Humidity','Time',alpha=0.2)\n",
    "df.plot.scatter('Pressure','Time',alpha=0.2)\n",
    "df.plot.scatter('Rainfall','Time',alpha=0.2)\n",
    "plt.show()"
   ]
  },
  {
   "cell_type": "code",
   "execution_count": null,
   "id": "f1430fd2",
   "metadata": {},
   "outputs": [],
   "source": []
  },
  {
   "cell_type": "code",
   "execution_count": null,
   "id": "765d0c70",
   "metadata": {},
   "outputs": [],
   "source": []
  }
 ],
 "metadata": {
  "kernelspec": {
   "display_name": "Python 3 (ipykernel)",
   "language": "python",
   "name": "python3"
  },
  "language_info": {
   "codemirror_mode": {
    "name": "ipython",
    "version": 3
   },
   "file_extension": ".py",
   "mimetype": "text/x-python",
   "name": "python",
   "nbconvert_exporter": "python",
   "pygments_lexer": "ipython3",
   "version": "3.9.12"
  }
 },
 "nbformat": 4,
 "nbformat_minor": 5
}
