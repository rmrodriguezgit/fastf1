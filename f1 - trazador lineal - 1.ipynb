{
 "cells": [
  {
   "cell_type": "code",
   "execution_count": 5,
   "id": "b8fc7727",
   "metadata": {},
   "outputs": [
    {
     "name": "stdout",
     "output_type": "stream",
     "text": [
      "Polinomios por tramos: \n",
      "  x = [0.1,0.2]\n",
      "3.5*x + 1.1\n",
      "  x = [0.2,0.3]\n",
      "2.0 - 1.0*x\n",
      "  x = [0.3,0.4]\n",
      "3.0*x + 0.8\n"
     ]
    }
   ],
   "source": [
    "# Trazador (spline) lineal, grado 1\n",
    "import numpy as np\n",
    "import sympy as sym\n",
    "import matplotlib.pyplot as plt\n",
    "\n",
    "def trazalineal(xi,fi):\n",
    "    n = len(xi)\n",
    "    x = sym.Symbol('x')\n",
    "    px_tabla = []\n",
    "    \n",
    "    tramo = 1\n",
    "    while not(tramo>=n):\n",
    "        # con 1ra diferencia finita avanzada \n",
    "        numerador = fi[tramo]-fi[tramo-1]\n",
    "        denominador = xi[tramo]-xi[tramo-1]\n",
    "        m = numerador/denominador\n",
    "        pxtramo = fi[tramo-1] + m*(x-xi[tramo-1])\n",
    "        px_tabla.append(pxtramo)\n",
    "        tramo = tramo + 1\n",
    "        \n",
    "    return(px_tabla)\n",
    "\n",
    "# PROGRAMA\n",
    "# INGRESO , Datos de prueba\n",
    "xi = [0.1 , 0.2, 0.3, 0.4]\n",
    "fi = [1.45, 1.8, 1.7, 2.0]\n",
    "\n",
    "#xi = np.array([1,2,3,4,5,6,7,8,9,10,11,12])\n",
    "#fi = np.array([0,25,0,34,26,25,15,25,25,6,27,25])\n",
    "\n",
    "muestras = 10 # entre cada par de puntos\n",
    "\n",
    "# PROCEDIMIENTO\n",
    "# Tabla de polinomios por tramos\n",
    "n = len(xi)\n",
    "px_tabla = trazalineal(xi,fi)\n",
    "\n",
    "# SALIDA\n",
    "print('Polinomios por tramos: ')\n",
    "for tramo in range(1,n,1):\n",
    "    print('  x = ['+str(xi[tramo-1])\n",
    "          +','+str(xi[tramo])+']')\n",
    "    print(str(px_tabla[tramo-1]))"
   ]
  },
  {
   "cell_type": "code",
   "execution_count": 6,
   "id": "4ee99c65",
   "metadata": {},
   "outputs": [
    {
     "data": {
      "image/png": "[encoded data removed]",
      "text/plain": [
       "<Figure size 432x288 with 1 Axes>"
      ]
     },
     "metadata": {
      "needs_background": "light"
     },
     "output_type": "display_data"
    }
   ],
   "source": [
    "# GRAFICA\n",
    "# Puntos para graficar cada tramo\n",
    "xtraza = np.array([])\n",
    "ytraza = np.array([])\n",
    "tramo = 1\n",
    "while not(tramo>=n):\n",
    "    a = xi[tramo-1]\n",
    "    b = xi[tramo]\n",
    "    xtramo = np.linspace(a,b,muestras)\n",
    "\n",
    "    # evalua polinomio del tramo\n",
    "    pxtramo = px_tabla[tramo-1]\n",
    "    pxt = sym.lambdify('x',pxtramo)\n",
    "    ytramo = pxt(xtramo)\n",
    "\n",
    "    # vectores de trazador en x,y\n",
    "    xtraza = np.concatenate((xtraza,xtramo))\n",
    "    ytraza = np.concatenate((ytraza,ytramo))\n",
    "    tramo = tramo + 1\n",
    "\n",
    "# Gráfica\n",
    "plt.plot(xi,fi,'o', label='puntos')\n",
    "plt.plot(xtraza,ytraza, label='trazador')\n",
    "plt.title('Trazadores lineales (splines)')\n",
    "plt.xlabel('xi')\n",
    "plt.ylabel('px(xi)')\n",
    "plt.legend()\n",
    "plt.show()"
   ]
  },
  {
   "cell_type": "code",
   "execution_count": null,
   "id": "98ffb0ea",
   "metadata": {},
   "outputs": [],
   "source": []
  }
 ],
 "metadata": {
  "kernelspec": {
   "display_name": "Python 3 (ipykernel)",
   "language": "python",
   "name": "python3"
  },
  "language_info": {
   "codemirror_mode": {
    "name": "ipython",
    "version": 3
   },
   "file_extension": ".py",
   "mimetype": "text/x-python",
   "name": "python",
   "nbconvert_exporter": "python",
   "pygments_lexer": "ipython3",
   "version": "3.9.12"
  }
 },
 "nbformat": 4,
 "nbformat_minor": 5
}
