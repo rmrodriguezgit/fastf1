{
 "cells": [
  {
   "cell_type": "markdown",
   "id": "069f5cea",
   "metadata": {},
   "source": [
    "# Importaciones necesarias"
   ]
  },
  {
   "cell_type": "code",
   "execution_count": 1,
   "id": "75c2b007",
   "metadata": {},
   "outputs": [],
   "source": [
    "import matplotlib.pyplot as plt\n",
    "import matplotlib.cbook as cbook\n",
    "import matplotlib.image as image\n",
    "\n",
    "import pandas as pd\n",
    "from timple.timedelta import strftimedelta\n",
    "import fastf1 as ff1\n",
    "import fastf1.plotting\n",
    "from fastf1.core import Laps"
   ]
  },
  {
   "cell_type": "code",
   "execution_count": 2,
   "id": "829f8064",
   "metadata": {},
   "outputs": [],
   "source": [
    "# Habilitamos el cache en nuestro equipo\n",
    "ff1.Cache.enable_cache('cache') "
   ]
  },
  {
   "cell_type": "code",
   "execution_count": 3,
   "id": "83256b0b",
   "metadata": {},
   "outputs": [],
   "source": [
    "# we only want support for timedelta plotting in this example\n",
    "ff1.plotting.setup_mpl(mpl_timedelta_support=True, color_scheme=None, misc_mpl_mods=False)"
   ]
  },
  {
   "cell_type": "code",
   "execution_count": 4,
   "id": "7dd5eb2a",
   "metadata": {},
   "outputs": [
    {
     "name": "stdout",
     "output_type": "stream",
     "text": [
      "Año: 2022\n",
      "Round: 14\n",
      "------ Session Type ------\n",
      "R - Race\n",
      "Q - Qualifying\n",
      "SQ - Sprint Qualifying\n",
      "FP1 - Practice 1\n",
      "FP2 - Practice 2\n",
      "FP3 - Practice 3\n",
      "--------------------------\n",
      "Session :R\n",
      "Piloto 1: VER\n",
      "Piloto 2: PER\n"
     ]
    }
   ],
   "source": [
    "# Solicitar variables\n",
    "year = int(input('Año: '))\n",
    "wknd = int(input('Round: '))\n",
    "print('------ Session Type ------')\n",
    "print('R - Race')\n",
    "print('Q - Qualifying')\n",
    "print('SQ - Sprint Qualifying')\n",
    "print('FP1 - Practice 1')\n",
    "print('FP2 - Practice 2')\n",
    "print('FP3 - Practice 3')\n",
    "print('--------------------------')\n",
    "ses = input('Session :')\n",
    "piloto1 = input('Piloto 1: ')\n",
    "piloto2 = input('Piloto 2: ')"
   ]
  },
  {
   "cell_type": "markdown",
   "id": "6bd95999",
   "metadata": {},
   "source": [
    "# Carga de la sesión"
   ]
  },
  {
   "cell_type": "code",
   "execution_count": 5,
   "id": "98f433cf",
   "metadata": {},
   "outputs": [
    {
     "name": "stderr",
     "output_type": "stream",
     "text": [
      "core           INFO \tLoading data for Belgian Grand Prix - Race [v2.2.8]\n",
      "api            INFO \tUsing cached data for driver_info\n",
      "core        WARNING \tFailed to load data from Ergast API! (This is expected for recent sessions)\n",
      "api            INFO \tUsing cached data for timing_data\n",
      "api            INFO \tUsing cached data for timing_app_data\n",
      "core           INFO \tProcessing timing data...\n",
      "api            INFO \tUsing cached data for session_status_data\n",
      "api            INFO \tUsing cached data for track_status_data\n",
      "api            INFO \tUsing cached data for car_data\n",
      "api            INFO \tUsing cached data for position_data\n",
      "api            INFO \tUsing cached data for weather_data\n",
      "api            INFO \tUsing cached data for race_control_messages\n",
      "core           INFO \tFinished loading data for 20 drivers: ['55', '24', '4', '31', '16', '1', '77', '20', '6', '5', '18', '10', '3', '23', '63', '44', '14', '11', '47', '22']\n"
     ]
    }
   ],
   "source": [
    "session = ff1.get_session(year, wknd, ses)\n",
    "session.load()"
   ]
  },
  {
   "cell_type": "markdown",
   "id": "8c4d4496",
   "metadata": {},
   "source": [
    "# Listado de pilotos"
   ]
  },
  {
   "cell_type": "code",
   "execution_count": 12,
   "id": "44981cd8",
   "metadata": {},
   "outputs": [
    {
     "data": {
      "text/plain": [
       "array(['SAI', 'ZHO', 'NOR', 'OCO', 'LEC', 'VER', 'BOT', 'MAG', 'LAT',\n",
       "       'VET', 'STR', 'GAS', 'RIC', 'ALB', 'RUS', 'HAM', 'ALO', 'PER',\n",
       "       'MSC', 'TSU'], dtype=object)"
      ]
     },
     "execution_count": 12,
     "metadata": {},
     "output_type": "execute_result"
    }
   ],
   "source": [
    "drivers = pd.unique(session.laps['Driver'])\n",
    "drivers\n",
    "# seleccionar un solo piloto drivers[0] - SAI"
   ]
  },
  {
   "cell_type": "markdown",
   "id": "ee0cb024",
   "metadata": {},
   "source": [
    "# tabla de vueltas más rápidas"
   ]
  },
  {
   "cell_type": "code",
   "execution_count": 13,
   "id": "0f615d5b",
   "metadata": {},
   "outputs": [
    {
     "name": "stderr",
     "output_type": "stream",
     "text": [
      "/opt/anaconda3/lib/python3.9/site-packages/fastf1/core.py:2165: FutureWarning: The default dtype for empty Series will be 'object' instead of 'float64' in a future version. Specify a dtype explicitly to silence this warning.\n",
      "  super().__init__(*args, **kwargs)\n"
     ]
    }
   ],
   "source": [
    "list_fastest_laps = list()\n",
    "for drv in drivers:\n",
    "    drvs_fastest_lap = session.laps.pick_driver(drv).pick_fastest()\n",
    "    list_fastest_laps.append(drvs_fastest_lap)\n",
    "fastest_laps = Laps(list_fastest_laps).sort_values(by='LapTime').reset_index(drop=True)"
   ]
  },
  {
   "cell_type": "code",
   "execution_count": 14,
   "id": "8dc2ea40",
   "metadata": {},
   "outputs": [],
   "source": [
    "pole_lap = fastest_laps.pick_fastest()\n",
    "fastest_laps['LapTimeDelta'] = fastest_laps['LapTime'] - pole_lap['LapTime']"
   ]
  },
  {
   "cell_type": "code",
   "execution_count": 15,
   "id": "e035c37d",
   "metadata": {},
   "outputs": [
    {
     "name": "stdout",
     "output_type": "stream",
     "text": [
      "   Driver                LapTime           LapTimeDelta\n",
      "0     VER 0 days 00:01:49.354000        0 days 00:00:00\n",
      "1     LEC 0 days 00:01:49.984000 0 days 00:00:00.630000\n",
      "2     PER 0 days 00:01:50.764000 0 days 00:00:01.410000\n",
      "3     RUS 0 days 00:01:50.793000 0 days 00:00:01.439000\n",
      "4     NOR 0 days 00:01:51.678000 0 days 00:00:02.324000\n",
      "5     OCO 0 days 00:01:51.717000 0 days 00:00:02.363000\n",
      "6     SAI 0 days 00:01:51.977000 0 days 00:00:02.623000\n",
      "7     LAT 0 days 00:01:52.256000 0 days 00:00:02.902000\n",
      "8     ZHO 0 days 00:01:52.317000 0 days 00:00:02.963000\n",
      "9     TSU 0 days 00:01:52.436000 0 days 00:00:03.082000\n",
      "10    VET 0 days 00:01:52.515000 0 days 00:00:03.161000\n",
      "11    MSC 0 days 00:01:52.646000 0 days 00:00:03.292000\n",
      "12    ALO 0 days 00:01:52.868000 0 days 00:00:03.514000\n",
      "13    STR 0 days 00:01:52.880000 0 days 00:00:03.526000\n",
      "14    GAS 0 days 00:01:53.002000 0 days 00:00:03.648000\n",
      "15    ALB 0 days 00:01:53.055000 0 days 00:00:03.701000\n",
      "16    RIC 0 days 00:01:53.080000 0 days 00:00:03.726000\n",
      "17    MAG 0 days 00:01:53.332000 0 days 00:00:03.978000\n",
      "18    NaN                    NaT                    NaT\n",
      "19    NaN                    NaT                    NaT\n"
     ]
    }
   ],
   "source": [
    "print(fastest_laps[['Driver', 'LapTime', 'LapTimeDelta']])"
   ]
  },
  {
   "cell_type": "code",
   "execution_count": 16,
   "id": "2a032fba",
   "metadata": {},
   "outputs": [],
   "source": [
    "# Graficador"
   ]
  },
  {
   "cell_type": "code",
   "execution_count": 17,
   "id": "5e4237a6",
   "metadata": {},
   "outputs": [
    {
     "name": "stdout",
     "output_type": "stream",
     "text": [
      "Red Bull Racing\n",
      "Ferrari\n",
      "Red Bull Racing\n",
      "Mercedes\n",
      "McLaren\n",
      "Alpine\n",
      "Ferrari\n",
      "Williams\n",
      "Alfa Romeo\n",
      "AlphaTauri\n",
      "Aston Martin\n",
      "Haas F1 Team\n",
      "Alpine\n",
      "Aston Martin\n",
      "AlphaTauri\n",
      "Williams\n",
      "McLaren\n",
      "Haas F1 Team\n",
      "NaT\n",
      "NaT\n"
     ]
    }
   ],
   "source": [
    "team_colors = list()\n",
    "for index, lap in fastest_laps.iterlaps():\n",
    "    print(lap['Team'])\n",
    "    if pd.isnull(lap['Team']):\n",
    "        color = '#000000'\n",
    "    else:\n",
    "        color = ff1.plotting.team_color(lap['Team'])\n",
    "    team_colors.append(color)"
   ]
  },
  {
   "cell_type": "code",
   "execution_count": 19,
   "id": "202a6c48",
   "metadata": {},
   "outputs": [
    {
     "data": {
      "image/png": "[encoded data removed]",
      "text/plain": [
       "<Figure size 864x486 with 1 Axes>"
      ]
     },
     "metadata": {},
     "output_type": "display_data"
    }
   ],
   "source": [
    "#Imagen para la marca de agua\n",
    "with cbook.get_sample_data('/Users/rubenrodriguez/Documents/anaconda/fastf1/images/logog.png') as file:\n",
    "    im = image.imread(file)\n",
    "\n",
    "#Modo oscuro\n",
    "plt.style.use('dark_background')\n",
    "\n",
    "fig, ax = plt.subplots(sharex=True, sharey=True, figsize=(12, 6.75))\n",
    "\n",
    "plt.rcParams['figure.figsize'] = [13, 13]\n",
    "\n",
    "#fig, ax = plt.subplots()\n",
    "# Etiquetas Verticales | Pilotos\n",
    "ax.set_yticks(fastest_laps.index,labels=fastest_laps['Driver'])\n",
    "ax.barh(fastest_laps.index, fastest_laps['LapTimeDelta'], color=team_colors, edgecolor='grey')\n",
    "\n",
    "ax.invert_yaxis()\n",
    "# Etiquetas\n",
    "ax.set_ylabel('Drivers')\n",
    "ax.set_xlabel('Lap Time Delta')\n",
    "session.event\n",
    "#ax.set_title(session.event['OfficialEventName'])\n",
    "\n",
    "plt.suptitle(f\"\\n{session.event['OfficialEventName']} \\n Lap Time Delta \\n\"\n",
    "             , size=20, y=1.02)\n",
    "# Barras\n",
    "# draw vertical lines behind the bars\n",
    "ax.set_axisbelow(True)\n",
    "ax.xaxis.grid(True, which='major', linestyle='--', color='black', zorder=-1000)\n",
    "#Mostrar gráfico\n",
    "fig.figimage(im, 3, 3, zorder=13, alpha=.35)\n",
    "\n",
    "#plt.savefig('2022-12-LPD-FP1.png')\n",
    "nombrearchivo = str(year)+'-'+str(wknd)+'-LPD-'+ses+'.png'\n",
    "plt.savefig(nombrearchivo)\n",
    "plt.show()"
   ]
  },
  {
   "cell_type": "code",
   "execution_count": null,
   "id": "e7aa6ce3",
   "metadata": {},
   "outputs": [],
   "source": []
  },
  {
   "cell_type": "code",
   "execution_count": null,
   "id": "907f9838",
   "metadata": {},
   "outputs": [],
   "source": []
  },
  {
   "cell_type": "code",
   "execution_count": null,
   "id": "ae52b5ac",
   "metadata": {},
   "outputs": [],
   "source": []
  }
 ],
 "metadata": {
  "kernelspec": {
   "display_name": "Python 3 (ipykernel)",
   "language": "python",
   "name": "python3"
  },
  "language_info": {
   "codemirror_mode": {
    "name": "ipython",
    "version": 3
   },
   "file_extension": ".py",
   "mimetype": "text/x-python",
   "name": "python",
   "nbconvert_exporter": "python",
   "pygments_lexer": "ipython3",
   "version": "3.9.12"
  }
 },
 "nbformat": 4,
 "nbformat_minor": 5
}
