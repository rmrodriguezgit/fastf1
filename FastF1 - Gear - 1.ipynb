{
 "cells": [
  {
   "cell_type": "code",
   "execution_count": 25,
   "id": "848bd2ce",
   "metadata": {},
   "outputs": [],
   "source": [
    "import fastf1\n",
    "\n",
    "import matplotlib.pyplot as plt\n",
    "from matplotlib.collections import LineCollection\n",
    "from matplotlib import cm\n",
    "import numpy as np"
   ]
  },
  {
   "cell_type": "code",
   "execution_count": 26,
   "id": "a8edd9d9",
   "metadata": {},
   "outputs": [],
   "source": [
    "fastf1.Cache.enable_cache('cache') "
   ]
  },
  {
   "cell_type": "code",
   "execution_count": 27,
   "id": "962ecd2f",
   "metadata": {},
   "outputs": [
    {
     "name": "stdout",
     "output_type": "stream",
     "text": [
      "Año: 2022\n",
      "Round: 10\n",
      "------ Session Type ------\n",
      "R - Race\n",
      "Q - Qualifying\n",
      "SQ - Sprint Qualifying\n",
      "FP1 - Practice 1\n",
      "FP2 - Practice 2\n",
      "FP3 - Practice 3\n",
      "--------------------------\n",
      "Session :R\n"
     ]
    }
   ],
   "source": [
    "year = int(input('Año: '))\n",
    "wknd = int(input('Round: '))\n",
    "print('------ Session Type ------')\n",
    "print('R - Race')\n",
    "print('Q - Qualifying')\n",
    "print('SQ - Sprint Qualifying')\n",
    "print('FP1 - Practice 1')\n",
    "print('FP2 - Practice 2')\n",
    "print('FP3 - Practice 3')\n",
    "print('--------------------------')\n",
    "ses = input('Session :')\n"
   ]
  },
  {
   "cell_type": "code",
   "execution_count": 28,
   "id": "c70df49c",
   "metadata": {},
   "outputs": [
    {
     "name": "stderr",
     "output_type": "stream",
     "text": [
      "core           INFO \tLoading data for British Grand Prix - Race [v2.2.8]\n",
      "api            INFO \tUsing cached data for driver_info\n",
      "api            INFO \tUsing cached data for timing_data\n",
      "api            INFO \tUsing cached data for timing_app_data\n",
      "core           INFO \tProcessing timing data...\n",
      "api            INFO \tUsing cached data for session_status_data\n",
      "api            INFO \tUsing cached data for track_status_data\n",
      "api            INFO \tUsing cached data for car_data\n",
      "api            INFO \tUsing cached data for position_data\n",
      "api            INFO \tUsing cached data for weather_data\n",
      "api            INFO \tUsing cached data for race_control_messages\n",
      "core           INFO \tFinished loading data for 20 drivers: ['55', '11', '44', '16', '14', '4', '1', '47', '5', '20', '18', '6', '3', '22', '31', '10', '77', '63', '24', '23']\n"
     ]
    }
   ],
   "source": [
    "session = fastf1.get_session(year, wknd, ses)\n",
    "session.load()\n",
    "lap = session.laps.pick_fastest()\n",
    "# lap = session.laps.pick_quicklaps()\n"
   ]
  },
  {
   "cell_type": "code",
   "execution_count": 30,
   "id": "7fb8c609",
   "metadata": {},
   "outputs": [
    {
     "data": {
      "text/plain": [
       "Time                      0 days 03:20:12.899000\n",
       "DriverNumber                                  44\n",
       "LapTime                   0 days 00:01:30.510000\n",
       "LapNumber                                   52.0\n",
       "Stint                                        4.0\n",
       "PitOutTime                                   NaT\n",
       "PitInTime                                    NaT\n",
       "Sector1Time               0 days 00:00:29.162000\n",
       "Sector2Time               0 days 00:00:36.580000\n",
       "Sector3Time               0 days 00:00:24.768000\n",
       "Sector1SessionTime        0 days 03:19:11.551000\n",
       "Sector2SessionTime        0 days 03:19:48.131000\n",
       "Sector3SessionTime        0 days 03:20:12.899000\n",
       "SpeedI1                                    289.0\n",
       "SpeedI2                                    259.0\n",
       "SpeedFL                                    247.0\n",
       "SpeedST                                    303.0\n",
       "IsPersonalBest                              True\n",
       "Compound                                    SOFT\n",
       "TyreLife                                    13.0\n",
       "FreshTyre                                   True\n",
       "LapStartTime              0 days 03:18:42.389000\n",
       "Team                                    Mercedes\n",
       "Driver                                       HAM\n",
       "TrackStatus                                    1\n",
       "IsAccurate                                  True\n",
       "LapStartDate          2022-07-03 16:19:42.401000\n",
       "Name: 155, dtype: object"
      ]
     },
     "execution_count": 30,
     "metadata": {},
     "output_type": "execute_result"
    }
   ],
   "source": [
    "#Si deseas escribir la salida\n",
    "# with open('laps_pick_fastest.txt','w') as f:\n",
    "#    f.write(f\"{lap}\")\n",
    "lap"
   ]
  },
  {
   "cell_type": "code",
   "execution_count": null,
   "id": "1ecb8c8b",
   "metadata": {},
   "outputs": [],
   "source": []
  }
 ],
 "metadata": {
  "kernelspec": {
   "display_name": "Python 3 (ipykernel)",
   "language": "python",
   "name": "python3"
  },
  "language_info": {
   "codemirror_mode": {
    "name": "ipython",
    "version": 3
   },
   "file_extension": ".py",
   "mimetype": "text/x-python",
   "name": "python",
   "nbconvert_exporter": "python",
   "pygments_lexer": "ipython3",
   "version": "3.9.12"
  }
 },
 "nbformat": 4,
 "nbformat_minor": 5
}
