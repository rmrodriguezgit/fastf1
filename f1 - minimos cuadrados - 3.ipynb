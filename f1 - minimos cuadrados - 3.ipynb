{
 "cells": [
  {
   "cell_type": "code",
   "execution_count": 2,
   "id": "71765d5d",
   "metadata": {},
   "outputs": [
    {
     "name": "stdout",
     "output_type": "stream",
     "text": [
      " f =  0.836764705882353*x + 13.825\n",
      "coef_correlación   r  =  0.3938197244585802\n",
      "coef_determinación r2 =  0.15509397537263203\n",
      "15.51% de los datos\n",
      "     está descrito en el modelo lineal\n"
     ]
    },
    {
     "data": {
      "image/png": "[encoded data removed]",
      "text/plain": [
       "<Figure size 432x288 with 1 Axes>"
      ]
     },
     "metadata": {
      "needs_background": "light"
     },
     "output_type": "display_data"
    }
   ],
   "source": [
    "# mínimos cuadrados, regresión con polinomio grado 1\n",
    "import numpy as np\n",
    "import sympy as sym\n",
    "import matplotlib.pyplot as plt\n",
    "\n",
    "# INGRESO\n",
    "xi = [1,2,3,4,5,6,7,8,9,10,11,12,13,14,15,16]\n",
    "yi = [0,25,0,34,26,25,15,25,25,6,27,25,25,26,26,25]\n",
    "\n",
    "# PROCEDIMIENTO\n",
    "xi = np.array(xi,dtype=float)\n",
    "yi = np.array(yi,dtype=float)\n",
    "n  = len(xi)\n",
    "\n",
    "# sumatorias y medias\n",
    "xm  = np.mean(xi)\n",
    "ym  = np.mean(yi)\n",
    "sx  = np.sum(xi)\n",
    "sy  = np.sum(yi)\n",
    "sxy = np.sum(xi*yi)\n",
    "sx2 = np.sum(xi**2)\n",
    "sy2 = np.sum(yi**2)\n",
    "\n",
    "# coeficientes a0 y a1\n",
    "a1 = (n*sxy-sx*sy)/(n*sx2-sx**2)\n",
    "a0 = ym - a1*xm\n",
    "\n",
    "# polinomio grado 1\n",
    "x = sym.Symbol('x')\n",
    "f = a0 + a1*x\n",
    "\n",
    "fx = sym.lambdify(x,f)\n",
    "fi = fx(xi)\n",
    "\n",
    "# coeficiente de correlación\n",
    "numerador = n*sxy - sx*sy\n",
    "raiz1 = np.sqrt(n*sx2-sx**2)\n",
    "raiz2 = np.sqrt(n*sy2-sy**2)\n",
    "r = numerador/(raiz1*raiz2)\n",
    "\n",
    "# coeficiente de determinacion\n",
    "r2 = r**2\n",
    "r2_porcentaje = np.around(r2*100,2)\n",
    "\n",
    "# SALIDA\n",
    "# print('ymedia =',ym)\n",
    "print(' f = ',f)\n",
    "print('coef_correlación   r  = ', r)\n",
    "print('coef_determinación r2 = ', r2)\n",
    "print(str(r2_porcentaje)+'% de los datos')\n",
    "print('     está descrito en el modelo lineal')\n",
    "\n",
    "# grafica\n",
    "plt.plot(xi,yi,'o',label='(xi,yi)')\n",
    "# plt.stem(xi,yi,bottom=ym,linefmt ='--')\n",
    "plt.plot(xi,fi, color='orange',  label=f)\n",
    "\n",
    "# lineas de error\n",
    "for i in range(0,n,1):\n",
    "    y0 = np.min([yi[i],fi[i]])\n",
    "    y1 = np.max([yi[i],fi[i]])\n",
    "    plt.vlines(xi[i],y0,y1, color='red',\n",
    "               linestyle ='dotted')\n",
    "plt.legend()\n",
    "plt.xlabel('xi')\n",
    "plt.title('minimos cuadrados')\n",
    "plt.show()"
   ]
  },
  {
   "cell_type": "code",
   "execution_count": 3,
   "id": "658f75f5",
   "metadata": {},
   "outputs": [
    {
     "name": "stdout",
     "output_type": "stream",
     "text": [
      "[[1.         0.33462275]\n",
      " [0.33462275 1.        ]]\n",
      "0.33462275086031806\n"
     ]
    }
   ],
   "source": [
    "coeficientes = np.corrcoef(xi,yi)\n",
    "print(coeficientes)\n",
    "\n",
    "r = coeficientes[0,1]\n",
    "print(r)\n"
   ]
  },
  {
   "cell_type": "code",
   "execution_count": null,
   "id": "ba5937bd",
   "metadata": {},
   "outputs": [],
   "source": []
  }
 ],
 "metadata": {
  "kernelspec": {
   "display_name": "Python 3 (ipykernel)",
   "language": "python",
   "name": "python3"
  },
  "language_info": {
   "codemirror_mode": {
    "name": "ipython",
    "version": 3
   },
   "file_extension": ".py",
   "mimetype": "text/x-python",
   "name": "python",
   "nbconvert_exporter": "python",
   "pygments_lexer": "ipython3",
   "version": "3.9.12"
  }
 },
 "nbformat": 4,
 "nbformat_minor": 5
}
