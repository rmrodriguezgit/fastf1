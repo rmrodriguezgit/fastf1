{
 "cells": [
  {
   "cell_type": "markdown",
   "id": "0285627b",
   "metadata": {},
   "source": [
    "# Qualifying results overview v2.1 (FastF1 2.2.8) Funcionando"
   ]
  },
  {
   "cell_type": "code",
   "execution_count": 1,
   "id": "0234e9d2",
   "metadata": {},
   "outputs": [
    {
     "name": "stdout",
     "output_type": "stream",
     "text": [
      "Año de la carrera: 2022\n",
      "Número de carrera: 11\n",
      "Session type\n",
      "R - Race\n",
      "Q - Qualifying\n",
      "SQ - Sprint Qualifying\n",
      "FP1 - Practice 1\n",
      "FP2 - Practice 2\n",
      "FP3 - Practice 3\n",
      "Session: Q\n"
     ]
    }
   ],
   "source": [
    "import matplotlib.pyplot as plt\n",
    "import pandas as pd\n",
    "from timple.timedelta import strftimedelta\n",
    "import fastf1\n",
    "import fastf1.plotting\n",
    "from fastf1.core import Laps\n",
    "\n",
    "year = int(input('Año de la carrera: '))\n",
    "carrera = int(input('Número de carrera: '))\n",
    "print('Session type')\n",
    "print('R - Race')\n",
    "print('Q - Qualifying')\n",
    "print('SQ - Sprint Qualifying')\n",
    "print('FP1 - Practice 1')\n",
    "print('FP2 - Practice 2')\n",
    "print('FP3 - Practice 3')\n",
    "sesion = input('Session: ')\n",
    "\n"
   ]
  },
  {
   "cell_type": "code",
   "execution_count": 2,
   "id": "aa3c00e4",
   "metadata": {},
   "outputs": [
    {
     "name": "stderr",
     "output_type": "stream",
     "text": [
      "core           INFO \tLoading data for Austrian Grand Prix - Qualifying [v2.2.8]\n",
      "api            INFO \tUsing cached data for driver_info\n",
      "core        WARNING \tFailed to load data from Ergast API! (This is expected for recent sessions)\n",
      "api            INFO \tUsing cached data for timing_data\n",
      "api            INFO \tUsing cached data for timing_app_data\n",
      "core           INFO \tProcessing timing data...\n",
      "api            INFO \tUsing cached data for session_status_data\n",
      "api            INFO \tUsing cached data for track_status_data\n",
      "api            INFO \tUsing cached data for car_data\n",
      "api            INFO \tUsing cached data for position_data\n",
      "api            INFO \tUsing cached data for weather_data\n",
      "api            INFO \tUsing cached data for race_control_messages\n",
      "core           INFO \tFinished loading data for 20 drivers: ['1', '55', '47', '44', '31', '24', '23', '22', '20', '18', '16', '14', '11', '10', '6', '5', '4', '3', '63', '77']\n"
     ]
    }
   ],
   "source": [
    "fastf1.Cache.enable_cache('cache')  # replace with your cache directory\n",
    "\n",
    "# we only want support for timedelta plotting in this example\n",
    "fastf1.plotting.setup_mpl(mpl_timedelta_support=True, color_scheme=None, misc_mpl_mods=False)\n",
    "\n",
    "session = fastf1.get_session(year, carrera, sesion)\n",
    "session.load()"
   ]
  },
  {
   "cell_type": "code",
   "execution_count": 3,
   "id": "52ba3d7d",
   "metadata": {},
   "outputs": [
    {
     "name": "stdout",
     "output_type": "stream",
     "text": [
      "['VER' 'SAI' 'MSC' 'HAM' 'OCO' 'ZHO' 'ALB' 'TSU' 'MAG' 'STR' 'LEC' 'ALO'\n",
      " 'PER' 'GAS' 'LAT' 'VET' 'NOR' 'RIC' 'RUS' 'BOT']\n"
     ]
    }
   ],
   "source": [
    "drivers = pd.unique(session.laps['Driver'])\n",
    "print(drivers)"
   ]
  },
  {
   "cell_type": "code",
   "execution_count": 4,
   "id": "763ee02b",
   "metadata": {},
   "outputs": [],
   "source": [
    "list_fastest_laps = list()\n",
    "for drv in drivers:\n",
    "    drvs_fastest_lap = session.laps.pick_driver(drv).pick_fastest()\n",
    "    list_fastest_laps.append(drvs_fastest_lap)\n",
    "fastest_laps = Laps(list_fastest_laps).sort_values(by='LapTime').reset_index(drop=True)"
   ]
  },
  {
   "cell_type": "code",
   "execution_count": 5,
   "id": "a9512729",
   "metadata": {},
   "outputs": [],
   "source": [
    "pole_lap = fastest_laps.pick_fastest()\n",
    "fastest_laps['LapTimeDelta'] = fastest_laps['LapTime'] - pole_lap['LapTime']"
   ]
  },
  {
   "cell_type": "code",
   "execution_count": 6,
   "id": "08786ef3",
   "metadata": {},
   "outputs": [
    {
     "name": "stdout",
     "output_type": "stream",
     "text": [
      "   Driver                LapTime           LapTimeDelta\n",
      "0     VER 0 days 00:01:04.984000        0 days 00:00:00\n",
      "1     LEC 0 days 00:01:05.013000 0 days 00:00:00.029000\n",
      "2     SAI 0 days 00:01:05.066000 0 days 00:00:00.082000\n",
      "3     PER 0 days 00:01:05.404000 0 days 00:00:00.420000\n",
      "4     RUS 0 days 00:01:05.431000 0 days 00:00:00.447000\n",
      "5     OCO 0 days 00:01:05.726000 0 days 00:00:00.742000\n",
      "6     MAG 0 days 00:01:05.879000 0 days 00:00:00.895000\n",
      "7     MSC 0 days 00:01:06.011000 0 days 00:00:01.027000\n",
      "8     ALO 0 days 00:01:06.103000 0 days 00:00:01.119000\n",
      "9     GAS 0 days 00:01:06.160000 0 days 00:00:01.176000\n",
      "10    ALB 0 days 00:01:06.230000 0 days 00:00:01.246000\n",
      "11    BOT 0 days 00:01:06.319000 0 days 00:00:01.335000\n",
      "12    RIC 0 days 00:01:06.613000 0 days 00:00:01.629000\n",
      "13    STR 0 days 00:01:06.847000 0 days 00:00:01.863000\n",
      "14    TSU 0 days 00:01:06.851000 0 days 00:00:01.867000\n",
      "15    ZHO 0 days 00:01:06.901000 0 days 00:00:01.917000\n",
      "16    LAT 0 days 00:01:07.003000 0 days 00:00:02.019000\n",
      "17    VET 0 days 00:01:07.083000 0 days 00:00:02.099000\n",
      "18    HAM 0 days 00:01:13.151000 0 days 00:00:08.167000\n",
      "19    NOR 0 days 00:01:25.847000 0 days 00:00:20.863000\n"
     ]
    }
   ],
   "source": [
    "print(fastest_laps[['Driver', 'LapTime', 'LapTimeDelta']])"
   ]
  },
  {
   "cell_type": "code",
   "execution_count": 7,
   "id": "efaef97f",
   "metadata": {},
   "outputs": [],
   "source": [
    "team_colors = list()\n",
    "for index, lap in fastest_laps.iterlaps():\n",
    "    color = fastf1.plotting.team_color(lap['Team'])\n",
    "    team_colors.append(color)"
   ]
  },
  {
   "cell_type": "code",
   "execution_count": 8,
   "id": "71201915",
   "metadata": {},
   "outputs": [
    {
     "data": {
      "image/png": "[encoded data removed]",
      "text/plain": [
       "<Figure size 432x288 with 1 Axes>"
      ]
     },
     "metadata": {
      "needs_background": "light"
     },
     "output_type": "display_data"
    }
   ],
   "source": [
    "fig, ax = plt.subplots()\n",
    "ax.barh(fastest_laps.index, fastest_laps['LapTimeDelta'],\n",
    "        color=team_colors, edgecolor='grey')\n",
    "ax.set_yticks(fastest_laps.index)\n",
    "ax.set_yticklabels(fastest_laps['Driver'])\n",
    "\n",
    "# show fastest at the top\n",
    "ax.invert_yaxis()\n",
    "\n",
    "# draw vertical lines behind the bars\n",
    "ax.set_axisbelow(True)\n",
    "ax.xaxis.grid(True, which='major', linestyle='--', color='black', zorder=-1000)"
   ]
  },
  {
   "cell_type": "code",
   "execution_count": 9,
   "id": "bcfc3f74",
   "metadata": {},
   "outputs": [
    {
     "data": {
      "text/plain": [
       "<Figure size 432x288 with 0 Axes>"
      ]
     },
     "metadata": {},
     "output_type": "display_data"
    }
   ],
   "source": [
    "lap_time_string = strftimedelta(pole_lap['LapTime'], '%m:%s.%ms')\n",
    "\n",
    "plt.suptitle(f\"{session.event['EventName']} {session.event.year} Qualifying\\n\"\n",
    "             f\"Fastest Lap: {lap_time_string} ({pole_lap['Driver']})\")\n",
    "\n",
    "plt.show()"
   ]
  }
 ],
 "metadata": {
  "kernelspec": {
   "display_name": "Python 3 (ipykernel)",
   "language": "python",
   "name": "python3"
  },
  "language_info": {
   "codemirror_mode": {
    "name": "ipython",
    "version": 3
   },
   "file_extension": ".py",
   "mimetype": "text/x-python",
   "name": "python",
   "nbconvert_exporter": "python",
   "pygments_lexer": "ipython3",
   "version": "3.9.12"
  }
 },
 "nbformat": 4,
 "nbformat_minor": 5
}
