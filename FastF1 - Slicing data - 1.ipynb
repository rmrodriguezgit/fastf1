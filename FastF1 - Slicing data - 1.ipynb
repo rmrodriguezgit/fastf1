{
 "cells": [
  {
   "cell_type": "code",
   "execution_count": 9,
   "id": "4d3c739d",
   "metadata": {},
   "outputs": [],
   "source": [
    "import fastf1"
   ]
  },
  {
   "cell_type": "code",
   "execution_count": 10,
   "id": "3bb285f1",
   "metadata": {},
   "outputs": [],
   "source": [
    "fastf1.Cache.enable_cache(\"cache\")"
   ]
  },
  {
   "cell_type": "code",
   "execution_count": 11,
   "id": "ad49363c",
   "metadata": {},
   "outputs": [
    {
     "name": "stdout",
     "output_type": "stream",
     "text": [
      "Año: 2022\n",
      "Round: 13\n",
      "------ Session Type ------\n",
      "R - Race\n",
      "Q - Qualifying\n",
      "SQ - Sprint Qualifying\n",
      "FP1 - Practice 1\n",
      "FP2 - Practice 2\n",
      "FP3 - Practice 3\n",
      "--------------------------\n",
      "Session :FP2\n"
     ]
    }
   ],
   "source": [
    "year = int(input('Año: '))\n",
    "wknd = int(input('Round: '))\n",
    "print('------ Session Type ------')\n",
    "print('R - Race')\n",
    "print('Q - Qualifying')\n",
    "print('SQ - Sprint Qualifying')\n",
    "print('FP1 - Practice 1')\n",
    "print('FP2 - Practice 2')\n",
    "print('FP3 - Practice 3')\n",
    "print('--------------------------')\n",
    "ses = input('Session :')"
   ]
  },
  {
   "cell_type": "code",
   "execution_count": 12,
   "id": "13a522cf",
   "metadata": {},
   "outputs": [
    {
     "name": "stderr",
     "output_type": "stream",
     "text": [
      "core           INFO \tLoading data for Hungarian Grand Prix - Practice 2 [v2.2.8]\n",
      "api            INFO \tUsing cached data for driver_info\n",
      "core        WARNING \tFailed to load data from Ergast API! (This is expected for recent sessions)\n",
      "api            INFO \tUsing cached data for timing_data\n",
      "api            INFO \tUsing cached data for timing_app_data\n",
      "core           INFO \tProcessing timing data...\n",
      "api            INFO \tUsing cached data for session_status_data\n",
      "api            INFO \tUsing cached data for track_status_data\n",
      "api            INFO \tUsing cached data for car_data\n",
      "api            INFO \tUsing cached data for position_data\n",
      "api            INFO \tUsing cached data for weather_data\n",
      "api            INFO \tUsing cached data for race_control_messages\n",
      "core           INFO \tFinished loading data for 20 drivers: ['1', '55', '47', '44', '31', '24', '23', '22', '20', '18', '16', '14', '11', '10', '6', '5', '4', '3', '63', '77']\n"
     ]
    }
   ],
   "source": [
    "session = fastf1.get_session(year, wknd, ses)\n",
    "session.load()\n",
    "evento = session.event\n",
    "fastest_lap = session.laps.pick_fastest()\n",
    "fastest_laps = session.laps.pick_quicklaps()\n",
    "tel = fastest_lap.telemetry"
   ]
  },
  {
   "cell_type": "code",
   "execution_count": 13,
   "id": "38bd6ef9",
   "metadata": {},
   "outputs": [
    {
     "name": "stdout",
     "output_type": "stream",
     "text": [
      "---------- Event ----------------\n",
      "RoundNumber                                            13\n",
      "Country                                           Hungary\n",
      "Location                                         Budapest\n",
      "OfficialEventName    FORMULA 1 ARAMCO MAGYAR NAGYDÍJ 2022\n",
      "EventDate                             2022-07-31 17:00:00\n",
      "EventName                            Hungarian Grand Prix\n",
      "EventFormat                                  conventional\n",
      "Session1                                       Practice 1\n",
      "Session1Date                          2022-07-29 14:00:00\n",
      "Session2                                       Practice 2\n",
      "Session2Date                          2022-07-29 17:00:00\n",
      "Session3                                       Practice 3\n",
      "Session3Date                          2022-07-30 13:00:00\n",
      "Session4                                       Qualifying\n",
      "Session4Date                          2022-07-30 16:00:00\n",
      "Session5                                             Race\n",
      "Session5Date                          2022-07-31 15:00:00\n",
      "F1ApiSupport                                         True\n",
      "Name: Hungarian Grand Prix, dtype: object\n",
      "--------- End Event -------------\n"
     ]
    }
   ],
   "source": [
    "print('---------- Event ----------------')\n",
    "print(evento)\n",
    "print('--------- End Event -------------')"
   ]
  },
  {
   "cell_type": "code",
   "execution_count": 14,
   "id": "caaa4988",
   "metadata": {},
   "outputs": [
    {
     "name": "stdout",
     "output_type": "stream",
     "text": [
      "---------------- Fastest Lap -------------------\n",
      "Time                      0 days 00:42:36.616000\n",
      "DriverNumber                                  16\n",
      "LapTime                   0 days 00:01:18.445000\n",
      "LapNumber                                      9\n",
      "Stint                                          2\n",
      "PitOutTime                                   NaT\n",
      "PitInTime                                    NaT\n",
      "Sector1Time               0 days 00:00:28.441000\n",
      "Sector2Time               0 days 00:00:27.595000\n",
      "Sector3Time               0 days 00:00:22.409000\n",
      "Sector1SessionTime        0 days 00:41:46.612000\n",
      "Sector2SessionTime        0 days 00:42:14.207000\n",
      "Sector3SessionTime        0 days 00:42:36.616000\n",
      "SpeedI1                                    280.0\n",
      "SpeedI2                                    250.0\n",
      "SpeedFL                                    252.0\n",
      "SpeedST                                    291.0\n",
      "IsPersonalBest                              True\n",
      "Compound                                    SOFT\n",
      "TyreLife                                     3.0\n",
      "FreshTyre                                   True\n",
      "LapStartTime              0 days 00:41:18.171000\n",
      "Team                                     Ferrari\n",
      "Driver                                       LEC\n",
      "TrackStatus                                    1\n",
      "IsAccurate                                  True\n",
      "LapStartDate          2022-07-29 15:26:18.179000\n",
      "Name: 277, dtype: object\n",
      "-------------- End Fastest Lap -----------------\n"
     ]
    }
   ],
   "source": [
    "print('---------------- Fastest Lap -------------------')\n",
    "print(fastest_lap)\n",
    "print('-------------- End Fastest Lap -----------------')\n"
   ]
  },
  {
   "cell_type": "code",
   "execution_count": 17,
   "id": "cd8cff5f",
   "metadata": {},
   "outputs": [
    {
     "name": "stdout",
     "output_type": "stream",
     "text": [
      "---------- Telemetry ----------------\n",
      "                      Time DriverNumber                LapTime  LapNumber  \\\n",
      "1   0 days 01:07:17.390000            1 0 days 00:01:08.758000        2.0   \n",
      "2   0 days 01:08:26.044000            1 0 days 00:01:08.654000        3.0   \n",
      "3   0 days 01:09:34.505000            1 0 days 00:01:08.461000        4.0   \n",
      "4   0 days 01:10:42.960000            1 0 days 00:01:08.455000        5.0   \n",
      "5   0 days 01:11:51.458000            1 0 days 00:01:08.498000        6.0   \n",
      "..                     ...          ...                    ...        ...   \n",
      "429 0 days 01:23:16.582000            5 0 days 00:01:10.475000       15.0   \n",
      "430 0 days 01:24:27.072000            5 0 days 00:01:10.490000       16.0   \n",
      "431 0 days 01:25:37.850000            5 0 days 00:01:10.778000       17.0   \n",
      "432 0 days 01:26:48.647000            5 0 days 00:01:10.797000       18.0   \n",
      "434 0 days 01:29:16.264000            5 0 days 00:01:12.969000       20.0   \n",
      "\n",
      "     Stint PitOutTime PitInTime            Sector1Time            Sector2Time  \\\n",
      "1      1.0        NaT       NaT 0 days 00:00:17.470000 0 days 00:00:30.567000   \n",
      "2      1.0        NaT       NaT 0 days 00:00:17.448000 0 days 00:00:30.478000   \n",
      "3      1.0        NaT       NaT 0 days 00:00:17.377000 0 days 00:00:30.461000   \n",
      "4      1.0        NaT       NaT 0 days 00:00:17.322000 0 days 00:00:30.467000   \n",
      "5      1.0        NaT       NaT 0 days 00:00:17.353000 0 days 00:00:30.450000   \n",
      "..     ...        ...       ...                    ...                    ...   \n",
      "429    1.0        NaT       NaT 0 days 00:00:17.754000 0 days 00:00:31.303000   \n",
      "430    1.0        NaT       NaT 0 days 00:00:17.731000 0 days 00:00:31.300000   \n",
      "431    1.0        NaT       NaT 0 days 00:00:17.828000 0 days 00:00:31.464000   \n",
      "432    1.0        NaT       NaT 0 days 00:00:17.772000 0 days 00:00:31.457000   \n",
      "434    1.0        NaT       NaT 0 days 00:00:18.520000 0 days 00:00:32.611000   \n",
      "\n",
      "               Sector3Time  ... IsPersonalBest Compound TyreLife  FreshTyre  \\\n",
      "1   0 days 00:00:20.721000  ...          False   MEDIUM      2.0       True   \n",
      "2   0 days 00:00:20.728000  ...          False   MEDIUM      3.0       True   \n",
      "3   0 days 00:00:20.623000  ...          False   MEDIUM      4.0       True   \n",
      "4   0 days 00:00:20.666000  ...           True   MEDIUM      5.0       True   \n",
      "5   0 days 00:00:20.695000  ...          False   MEDIUM      6.0       True   \n",
      "..                     ...  ...            ...      ...      ...        ...   \n",
      "429 0 days 00:00:21.418000  ...          False     SOFT     17.0      False   \n",
      "430 0 days 00:00:21.459000  ...          False     SOFT     18.0      False   \n",
      "431 0 days 00:00:21.486000  ...          False     SOFT     19.0      False   \n",
      "432 0 days 00:00:21.568000  ...          False     SOFT     20.0      False   \n",
      "434 0 days 00:00:21.838000  ...          False     SOFT     22.0      False   \n",
      "\n",
      "              LapStartTime             Team  Driver  TrackStatus IsAccurate  \\\n",
      "1   0 days 01:06:08.632000  Red Bull Racing     VER            1       True   \n",
      "2   0 days 01:07:17.390000  Red Bull Racing     VER            1       True   \n",
      "3   0 days 01:08:26.044000  Red Bull Racing     VER            1       True   \n",
      "4   0 days 01:09:34.505000  Red Bull Racing     VER            1       True   \n",
      "5   0 days 01:10:42.960000  Red Bull Racing     VER            1       True   \n",
      "..                     ...              ...     ...          ...        ...   \n",
      "429 0 days 01:22:06.107000     Aston Martin     VET            1       True   \n",
      "430 0 days 01:23:16.582000     Aston Martin     VET            1       True   \n",
      "431 0 days 01:24:27.072000     Aston Martin     VET            1       True   \n",
      "432 0 days 01:25:37.850000     Aston Martin     VET            1       True   \n",
      "434 0 days 01:28:03.295000     Aston Martin     VET            1       True   \n",
      "\n",
      "               LapStartDate  \n",
      "1   2022-07-09 14:37:08.641  \n",
      "2   2022-07-09 14:38:17.399  \n",
      "3   2022-07-09 14:39:26.053  \n",
      "4   2022-07-09 14:40:34.514  \n",
      "5   2022-07-09 14:41:42.969  \n",
      "..                      ...  \n",
      "429 2022-07-09 14:53:06.116  \n",
      "430 2022-07-09 14:54:16.591  \n",
      "431 2022-07-09 14:55:27.081  \n",
      "432 2022-07-09 14:56:37.859  \n",
      "434 2022-07-09 14:59:03.304  \n",
      "\n",
      "[412 rows x 27 columns]\n",
      "--------- End Telemetry -------------\n"
     ]
    }
   ],
   "source": [
    "print('---------- Telemetry ----------------')\n",
    "print(fastest_laps)\n",
    "print('--------- End Telemetry -------------')"
   ]
  },
  {
   "cell_type": "code",
   "execution_count": 13,
   "id": "2a75255c",
   "metadata": {},
   "outputs": [
    {
     "name": "stdout",
     "output_type": "stream",
     "text": [
      "---------- Telemetry ----------------\n",
      "                       Date            SessionTime DriverAhead  \\\n",
      "2   2022-07-09 14:39:28.102 0 days 01:08:28.093000               \n",
      "3   2022-07-09 14:39:28.167 0 days 01:08:28.158000               \n",
      "4   2022-07-09 14:39:28.259 0 days 01:08:28.250000               \n",
      "5   2022-07-09 14:39:28.327 0 days 01:08:28.318000           1   \n",
      "6   2022-07-09 14:39:28.519 0 days 01:08:28.510000           1   \n",
      "..                      ...                    ...         ...   \n",
      "527 2022-07-09 14:40:36.087 0 days 01:09:36.078000           1   \n",
      "528 2022-07-09 14:40:36.120 0 days 01:09:36.111000           1   \n",
      "529 2022-07-09 14:40:36.247 0 days 01:09:36.238000           1   \n",
      "530 2022-07-09 14:40:36.380 0 days 01:09:36.371000           1   \n",
      "531 2022-07-09 14:40:36.423 0 days 01:09:36.414000           1   \n",
      "\n",
      "     DistanceToDriverAhead                   Time    RPM  Speed  nGear  \\\n",
      "2               164.625000        0 days 00:00:00  11272    280      7   \n",
      "3               164.625000 0 days 00:00:00.065000  11302    281      7   \n",
      "4               164.625000 0 days 00:00:00.157000  11302    281      7   \n",
      "5               164.625000 0 days 00:00:00.225000  11302    281      7   \n",
      "6               165.025000 0 days 00:00:00.417000  11395    282      7   \n",
      "..                     ...                    ...    ...    ...    ...   \n",
      "527             144.333333 0 days 00:01:07.985000  11066    275      7   \n",
      "528             144.688889 0 days 00:01:08.018000  11076    275      7   \n",
      "529             145.044444 0 days 00:01:08.145000  11086    276      7   \n",
      "530             145.044444 0 days 00:01:08.278000  11151    277      7   \n",
      "531             145.044444 0 days 00:01:08.321000  11183    277      7   \n",
      "\n",
      "     Throttle  Brake  DRS         Source     Distance  RelativeDistance  \\\n",
      "2         100  False    0  interpolation     0.114609          0.000027   \n",
      "3         100  False    0            car     5.186111          0.001206   \n",
      "4         100  False    0            pos    12.361559          0.002874   \n",
      "5         100  False    0            car    17.675000          0.004110   \n",
      "6         100  False    0            pos    32.766910          0.007619   \n",
      "..        ...    ...  ...            ...          ...               ...   \n",
      "527       100  False    0            car  4263.436667          0.991360   \n",
      "528       100  False    0            pos  4265.963495          0.991948   \n",
      "529       100  False    0            car  4275.703333          0.994213   \n",
      "530       100  False    0            pos  4285.984830          0.996603   \n",
      "531       100  False    0  interpolation  4289.328143          0.997381   \n",
      "\n",
      "      Status     X     Y     Z  \n",
      "2    OnTrack  1079 -1213  7214  \n",
      "3    OnTrack  1031 -1227  7214  \n",
      "4    OnTrack   962 -1246  7214  \n",
      "5    OnTrack   910 -1259  7213  \n",
      "6    OnTrack   766 -1299  7214  \n",
      "..       ...   ...   ...   ...  \n",
      "527  OnTrack  1359 -1137  7215  \n",
      "528  OnTrack  1337 -1144  7215  \n",
      "529  OnTrack  1254 -1166  7215  \n",
      "530  OnTrack  1144 -1197  7215  \n",
      "531  OnTrack  1096 -1210  7215  \n",
      "\n",
      "[530 rows x 18 columns]\n",
      "--------- End Telemetry -------------\n"
     ]
    }
   ],
   "source": [
    "print('---------- Telemetry ----------------')\n",
    "print(tel)\n",
    "print('--------- End Telemetry -------------')"
   ]
  },
  {
   "cell_type": "code",
   "execution_count": null,
   "id": "a37d03ae",
   "metadata": {},
   "outputs": [],
   "source": []
  }
 ],
 "metadata": {
  "kernelspec": {
   "display_name": "Python 3 (ipykernel)",
   "language": "python",
   "name": "python3"
  },
  "language_info": {
   "codemirror_mode": {
    "name": "ipython",
    "version": 3
   },
   "file_extension": ".py",
   "mimetype": "text/x-python",
   "name": "python",
   "nbconvert_exporter": "python",
   "pygments_lexer": "ipython3",
   "version": "3.9.12"
  }
 },
 "nbformat": 4,
 "nbformat_minor": 5
}
