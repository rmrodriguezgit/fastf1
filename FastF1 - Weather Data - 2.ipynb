{
 "cells": [
  {
   "cell_type": "code",
   "execution_count": 4,
   "id": "9df87bf1",
   "metadata": {},
   "outputs": [
    {
     "name": "stdout",
     "output_type": "stream",
     "text": [
      "Año: 2022\n",
      "Round: 17\n",
      "Session type\n",
      "R - Race\n",
      "Q - Qualifying\n",
      "SQ - Sprint Qualifying\n",
      "FP1 - Practice 1\n",
      "FP2 - Practice 2\n",
      "FP3 - Practice 3\n",
      "Session :R\n"
     ]
    }
   ],
   "source": [
    "import fastf1 as ff1\n",
    "import pandas as pd\n",
    "\n",
    "ff1.Cache.enable_cache('cache') \n",
    "\n",
    "year = int(input('Año: '))\n",
    "wknd = int(input('Round: '))\n",
    "print('Session type')\n",
    "print('R - Race')\n",
    "print('Q - Qualifying')\n",
    "print('SQ - Sprint Qualifying')\n",
    "print('FP1 - Practice 1')\n",
    "print('FP2 - Practice 2')\n",
    "print('FP3 - Practice 3')\n",
    "ses = input('Session :')"
   ]
  },
  {
   "cell_type": "code",
   "execution_count": 5,
   "id": "a4dea51d",
   "metadata": {},
   "outputs": [
    {
     "name": "stderr",
     "output_type": "stream",
     "text": [
      "core           INFO \tLoading data for Singapore Grand Prix - Race [v2.2.8]\n",
      "api            INFO \tUsing cached data for driver_info\n",
      "core        WARNING \tFailed to load data from Ergast API! (This is expected for recent sessions)\n",
      "api            INFO \tUsing cached data for timing_data\n",
      "api            INFO \tUsing cached data for timing_app_data\n",
      "core           INFO \tProcessing timing data...\n",
      "api            INFO \tUsing cached data for session_status_data\n",
      "api            INFO \tUsing cached data for track_status_data\n",
      "api            INFO \tUsing cached data for weather_data\n",
      "api            INFO \tUsing cached data for race_control_messages\n",
      "core           INFO \tFinished loading data for 20 drivers: ['16', '23', '31', '3', '77', '24', '5', '47', '18', '22', '20', '1', '10', '4', '14', '55', '44', '11', '6', '63']\n"
     ]
    },
    {
     "name": "stdout",
     "output_type": "stream",
     "text": [
      "                      Time AirTemp Humidity Pressure Rainfall TrackTemp  \\\n",
      "128 0 days 02:08:18.612000    26.8     82.0   1008.0    False      30.1   \n",
      "130 0 days 02:10:18.664000    26.8     82.0   1008.0    False      29.5   \n",
      "132 0 days 02:12:18.681000    26.9     82.0   1008.0    False      29.9   \n",
      "134 0 days 02:14:18.649000    26.9     82.0   1008.0    False      29.8   \n",
      "136 0 days 02:16:18.659000    26.8     82.0   1008.0    False      29.4   \n",
      "..                     ...     ...      ...      ...      ...       ...   \n",
      "241 0 days 04:01:18.994000    27.6     87.0   1009.2    False      28.6   \n",
      "243 0 days 04:03:18.997000    27.5     88.0   1009.2    False      28.6   \n",
      "245 0 days 04:05:19.015000    27.5     88.0   1009.2    False      29.2   \n",
      "247 0 days 04:07:18.999000    27.5     87.0   1009.2    False      29.3   \n",
      "249        0 days 04:09:19    27.6     87.0   1009.2    False      29.5   \n",
      "\n",
      "    WindDirection WindSpeed  \n",
      "128            25       0.8  \n",
      "130           121       0.6  \n",
      "132           165       0.6  \n",
      "134           176       0.8  \n",
      "136           194       0.8  \n",
      "..            ...       ...  \n",
      "241           181       1.1  \n",
      "243           167       1.5  \n",
      "245            98       1.2  \n",
      "247           151       1.1  \n",
      "249           155       1.3  \n",
      "\n",
      "[941 rows x 8 columns]\n"
     ]
    }
   ],
   "source": [
    "session = ff1.get_session(year, wknd, ses)\n",
    "session.load(telemetry=False)\n",
    "weather_data = session.laps.get_weather_data()\n",
    "print(weather_data)"
   ]
  },
  {
   "cell_type": "code",
   "execution_count": 6,
   "id": "725e68d1",
   "metadata": {},
   "outputs": [
    {
     "name": "stdout",
     "output_type": "stream",
     "text": [
      "                      Time DriverNumber                LapTime  LapNumber  \\\n",
      "0   0 days 02:10:03.182000           16                    NaT          1   \n",
      "1   0 days 02:12:04.396000           16 0 days 00:02:01.214000          2   \n",
      "2   0 days 02:14:05.335000           16 0 days 00:02:00.939000          3   \n",
      "3   0 days 02:16:06.069000           16 0 days 00:02:00.734000          4   \n",
      "4   0 days 02:18:06.288000           16 0 days 00:02:00.219000          5   \n",
      "..                     ...          ...                    ...        ...   \n",
      "936 0 days 04:02:47.493000           63 0 days 00:01:50.349000         53   \n",
      "937 0 days 04:04:33.951000           63 0 days 00:01:46.458000         54   \n",
      "938 0 days 04:06:25.625000           63 0 days 00:01:51.674000         55   \n",
      "939 0 days 04:08:21.575000           63 0 days 00:01:55.950000         56   \n",
      "940 0 days 04:10:13.478000           63 0 days 00:01:51.903000         57   \n",
      "\n",
      "     Stint             PitOutTime PitInTime            Sector1Time  \\\n",
      "0        1 0 days 01:30:51.471000       NaT                    NaT   \n",
      "1        1                    NaT       NaT 0 days 00:00:31.750000   \n",
      "2        1                    NaT       NaT 0 days 00:00:31.709000   \n",
      "3        1                    NaT       NaT 0 days 00:00:31.755000   \n",
      "4        1                    NaT       NaT 0 days 00:00:31.574000   \n",
      "..     ...                    ...       ...                    ...   \n",
      "936      6                    NaT       NaT 0 days 00:00:29.656000   \n",
      "937      6                    NaT       NaT 0 days 00:00:28.869000   \n",
      "938      6                    NaT       NaT 0 days 00:00:32.054000   \n",
      "939      6                    NaT       NaT 0 days 00:00:29.128000   \n",
      "940      6                    NaT       NaT 0 days 00:00:30.515000   \n",
      "\n",
      "               Sector2Time            Sector3Time  ... Driver TrackStatus  \\\n",
      "0   0 days 00:00:48.217000 0 days 00:00:42.324000  ...    LEC           2   \n",
      "1   0 days 00:00:47.532000 0 days 00:00:41.932000  ...    LEC           1   \n",
      "2   0 days 00:00:47.570000 0 days 00:00:41.660000  ...    LEC           1   \n",
      "3   0 days 00:00:47.447000 0 days 00:00:41.532000  ...    LEC           1   \n",
      "4   0 days 00:00:47.178000 0 days 00:00:41.467000  ...    LEC           1   \n",
      "..                     ...                    ...  ...    ...         ...   \n",
      "936 0 days 00:00:42.158000 0 days 00:00:38.535000  ...    RUS           1   \n",
      "937 0 days 00:00:40.391000 0 days 00:00:37.198000  ...    RUS           1   \n",
      "938 0 days 00:00:41.900000 0 days 00:00:37.720000  ...    RUS           1   \n",
      "939 0 days 00:00:44.433000 0 days 00:00:42.389000  ...    RUS           1   \n",
      "940 0 days 00:00:42.424000 0 days 00:00:38.964000  ...    RUS           1   \n",
      "\n",
      "    IsAccurate  AirTemp  Humidity  Pressure  Rainfall  TrackTemp  \\\n",
      "0        False     26.8      82.0    1008.0     False       30.1   \n",
      "1         True     26.8      82.0    1008.0     False       29.5   \n",
      "2         True     26.9      82.0    1008.0     False       29.9   \n",
      "3         True     26.9      82.0    1008.0     False       29.8   \n",
      "4         True     26.8      82.0    1008.0     False       29.4   \n",
      "..         ...      ...       ...       ...       ...        ...   \n",
      "936       True     27.6      87.0    1009.2     False       28.6   \n",
      "937       True     27.5      88.0    1009.2     False       28.6   \n",
      "938       True     27.5      88.0    1009.2     False       29.2   \n",
      "939       True     27.5      87.0    1009.2     False       29.3   \n",
      "940       True     27.6      87.0    1009.2     False       29.5   \n",
      "\n",
      "    WindDirection  WindSpeed  \n",
      "0              25        0.8  \n",
      "1             121        0.6  \n",
      "2             165        0.6  \n",
      "3             176        0.8  \n",
      "4             194        0.8  \n",
      "..            ...        ...  \n",
      "936           181        1.1  \n",
      "937           167        1.5  \n",
      "938            98        1.2  \n",
      "939           151        1.1  \n",
      "940           155        1.3  \n",
      "\n",
      "[941 rows x 33 columns]\n"
     ]
    }
   ],
   "source": [
    "# prepare the data for joining\n",
    "laps = session.laps\n",
    "laps = laps.reset_index(drop=True)\n",
    "weather_data = weather_data.reset_index(drop=True)\n",
    "\n",
    "# exclude the 'Time' column from weather data when joining\n",
    "joined = pd.concat([laps, weather_data.loc[:, ~(weather_data.columns == 'Time')]], axis=1)\n",
    "print(joined)"
   ]
  },
  {
   "cell_type": "code",
   "execution_count": null,
   "id": "7e43d7c8",
   "metadata": {},
   "outputs": [],
   "source": []
  },
  {
   "cell_type": "code",
   "execution_count": null,
   "id": "9557f7f7",
   "metadata": {},
   "outputs": [],
   "source": []
  },
  {
   "cell_type": "code",
   "execution_count": null,
   "id": "fe70f554",
   "metadata": {},
   "outputs": [],
   "source": []
  }
 ],
 "metadata": {
  "kernelspec": {
   "display_name": "Python 3 (ipykernel)",
   "language": "python",
   "name": "python3"
  },
  "language_info": {
   "codemirror_mode": {
    "name": "ipython",
    "version": 3
   },
   "file_extension": ".py",
   "mimetype": "text/x-python",
   "name": "python",
   "nbconvert_exporter": "python",
   "pygments_lexer": "ipython3",
   "version": "3.9.12"
  }
 },
 "nbformat": 4,
 "nbformat_minor": 5
}
